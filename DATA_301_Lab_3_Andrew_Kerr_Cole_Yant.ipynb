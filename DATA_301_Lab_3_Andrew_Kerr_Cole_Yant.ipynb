{
  "nbformat": 4,
  "nbformat_minor": 0,
  "metadata": {
    "kernelspec": {
      "display_name": "Python 3",
      "language": "python",
      "name": "python3"
    },
    "language_info": {
      "codemirror_mode": {
        "name": "ipython",
        "version": 3
      },
      "file_extension": ".py",
      "mimetype": "text/x-python",
      "name": "python",
      "nbconvert_exporter": "python",
      "pygments_lexer": "ipython3",
      "version": "3.6.8"
    },
    "colab": {
      "name": "DATA 301 Lab 3 - Andrew Kerr_Cole Yant",
      "provenance": [],
      "collapsed_sections": [],
      "include_colab_link": true
    }
  },
  "cells": [
    {
      "cell_type": "markdown",
      "metadata": {
        "id": "view-in-github",
        "colab_type": "text"
      },
      "source": [
        "<a href=\"https://colab.research.google.com/github/yanter5/lab-3-phase-2-Wander03/blob/main/DATA_301_Lab_3_Andrew_Kerr_Cole_Yant.ipynb\" target=\"_parent\"><img src=\"https://colab.research.google.com/assets/colab-badge.svg\" alt=\"Open In Colab\"/></a>"
      ]
    },
    {
      "cell_type": "markdown",
      "metadata": {
        "id": "D26Xw4A0OIcR"
      },
      "source": [
        "# Retrieval Practice and Learning\n",
        "\n",
        "What is the most effective way to learn a subject? Many students focus exclusively on the _encoding_ process---that is, how to get the knowledge into memory in the first place. For example, taking notes is an activity for encoding knowledge.\n",
        "\n",
        "_Retrieval_, on the other hand, is the process of reconstructing that knowledge from memory. [Karpicke and Blunt](http://science.sciencemag.org/content/331/6018/772) (2011) demonstrated that _retrieval_ is more effective for learning than activites designed to promote effective encoding. They conducted an experiment in which subjects had to learn about sea otters by reading a passage. Subjects were randomly assigned to one of two conditions: some were instructed to create a [concept map](https://en.wikipedia.org/wiki/Concept_map) as they read the passage, while others were instructed to practice retrieval (i.e., read the passage, recall as much as they could, read the text again, and recall again). The two main measurements they recorded were:\n",
        "\n",
        "1. each subject's score on a follow-up learning test one week later\n",
        "2. each subject's _prediction_ of how well they would do on that test\n",
        "\n",
        "In this lab, you will analyze data from a _replication_ of Karpicke and Blunt's experiment, conducted by Buttrick _et al_.\n",
        "- The data file is here: https://dlsun.github.io/pods/data/KarpickeBlunt2011Replication/data.csv.\n",
        "- The codebook (explaining what the variables mean) is here: https://dlsun.github.io/pods/data/KarpickeBlunt2011Replication/codebook.csv."
      ]
    },
    {
      "cell_type": "code",
      "source": [
        "import pandas as pd"
      ],
      "metadata": {
        "id": "Gl3OJlpnwDIS"
      },
      "execution_count": null,
      "outputs": []
    },
    {
      "cell_type": "code",
      "metadata": {
        "id": "11XV7qKfOIcU"
      },
      "source": [
        "data_dir = \"https://dlsun.github.io/pods/data/\"\n",
        "df_learning = pd.read_csv(data_dir + \"KarpickeBlunt2011Replication/data.csv\")"
      ],
      "execution_count": null,
      "outputs": []
    },
    {
      "cell_type": "code",
      "source": [
        "df_learning.head()"
      ],
      "metadata": {
        "colab": {
          "base_uri": "https://localhost:8080/",
          "height": 270
        },
        "id": "g4_sOkeawism",
        "outputId": "2ac90077-8c71-4510-fa73-4976f4a09721"
      },
      "execution_count": null,
      "outputs": [
        {
          "output_type": "execute_result",
          "data": {
            "text/html": [
              "\n",
              "  <div id=\"df-3b70c7d1-3852-41b1-a251-6ab2978dbcc5\">\n",
              "    <div class=\"colab-df-container\">\n",
              "      <div>\n",
              "<style scoped>\n",
              "    .dataframe tbody tr th:only-of-type {\n",
              "        vertical-align: middle;\n",
              "    }\n",
              "\n",
              "    .dataframe tbody tr th {\n",
              "        vertical-align: top;\n",
              "    }\n",
              "\n",
              "    .dataframe thead th {\n",
              "        text-align: right;\n",
              "    }\n",
              "</style>\n",
              "<table border=\"1\" class=\"dataframe\">\n",
              "  <thead>\n",
              "    <tr style=\"text-align: right;\">\n",
              "      <th></th>\n",
              "      <th>ID</th>\n",
              "      <th>Age</th>\n",
              "      <th>Gender</th>\n",
              "      <th>Date.P1</th>\n",
              "      <th>Date.P2</th>\n",
              "      <th>Condition</th>\n",
              "      <th>IC.1</th>\n",
              "      <th>IC.2</th>\n",
              "      <th>Comp.1</th>\n",
              "      <th>Comp.2</th>\n",
              "      <th>PR.1</th>\n",
              "      <th>PR.2</th>\n",
              "      <th>MCS.1</th>\n",
              "      <th>Scorer.1</th>\n",
              "      <th>MCS.2</th>\n",
              "      <th>Scorer.2</th>\n",
              "      <th>MCS.avg</th>\n",
              "      <th>R1CS.1</th>\n",
              "      <th>Scorer.1.1</th>\n",
              "      <th>R1CS.2</th>\n",
              "      <th>Scorer.2.1</th>\n",
              "      <th>R1CS.avg</th>\n",
              "      <th>R2CS.1</th>\n",
              "      <th>Scorer.1.2</th>\n",
              "      <th>R2CS.2</th>\n",
              "      <th>Scorer.2.2</th>\n",
              "      <th>R2CS.avg</th>\n",
              "      <th>TS.1</th>\n",
              "      <th>Scorer.1.3</th>\n",
              "      <th>TS.2</th>\n",
              "      <th>Scorer.2.3</th>\n",
              "      <th>TS.avg</th>\n",
              "      <th>Exc.1</th>\n",
              "      <th>Exc.2</th>\n",
              "      <th>Collection</th>\n",
              "    </tr>\n",
              "  </thead>\n",
              "  <tbody>\n",
              "    <tr>\n",
              "      <th>0</th>\n",
              "      <td>KB1</td>\n",
              "      <td>18</td>\n",
              "      <td>Female</td>\n",
              "      <td>11/21/16</td>\n",
              "      <td>11/28/16</td>\n",
              "      <td>Concept</td>\n",
              "      <td>1</td>\n",
              "      <td>1</td>\n",
              "      <td>1</td>\n",
              "      <td>1</td>\n",
              "      <td>1.0</td>\n",
              "      <td>0.80</td>\n",
              "      <td>0.750</td>\n",
              "      <td>NK</td>\n",
              "      <td>0.670</td>\n",
              "      <td>TT</td>\n",
              "      <td>0.7100</td>\n",
              "      <td>NaN</td>\n",
              "      <td>NaN</td>\n",
              "      <td>NaN</td>\n",
              "      <td>NaN</td>\n",
              "      <td>NaN</td>\n",
              "      <td>NaN</td>\n",
              "      <td>NaN</td>\n",
              "      <td>NaN</td>\n",
              "      <td>NaN</td>\n",
              "      <td>NaN</td>\n",
              "      <td>0.36</td>\n",
              "      <td>NK</td>\n",
              "      <td>0.42</td>\n",
              "      <td>MS</td>\n",
              "      <td>0.39</td>\n",
              "      <td>0</td>\n",
              "      <td>0</td>\n",
              "      <td>1</td>\n",
              "    </tr>\n",
              "    <tr>\n",
              "      <th>1</th>\n",
              "      <td>KB2</td>\n",
              "      <td>18</td>\n",
              "      <td>Male</td>\n",
              "      <td>11/21/16</td>\n",
              "      <td>11/28/16</td>\n",
              "      <td>Concept</td>\n",
              "      <td>1</td>\n",
              "      <td>1</td>\n",
              "      <td>1</td>\n",
              "      <td>1</td>\n",
              "      <td>0.0</td>\n",
              "      <td>0.70</td>\n",
              "      <td>0.400</td>\n",
              "      <td>NK</td>\n",
              "      <td>0.367</td>\n",
              "      <td>TT</td>\n",
              "      <td>0.3835</td>\n",
              "      <td>NaN</td>\n",
              "      <td>NaN</td>\n",
              "      <td>NaN</td>\n",
              "      <td>NaN</td>\n",
              "      <td>NaN</td>\n",
              "      <td>NaN</td>\n",
              "      <td>NaN</td>\n",
              "      <td>NaN</td>\n",
              "      <td>NaN</td>\n",
              "      <td>NaN</td>\n",
              "      <td>0.48</td>\n",
              "      <td>MS</td>\n",
              "      <td>0.36</td>\n",
              "      <td>NK</td>\n",
              "      <td>0.42</td>\n",
              "      <td>0</td>\n",
              "      <td>0</td>\n",
              "      <td>1</td>\n",
              "    </tr>\n",
              "    <tr>\n",
              "      <th>2</th>\n",
              "      <td>KB3</td>\n",
              "      <td>18</td>\n",
              "      <td>Male</td>\n",
              "      <td>11/21/16</td>\n",
              "      <td>11/28/16</td>\n",
              "      <td>Concept</td>\n",
              "      <td>1</td>\n",
              "      <td>1</td>\n",
              "      <td>1</td>\n",
              "      <td>1</td>\n",
              "      <td>0.0</td>\n",
              "      <td>0.70</td>\n",
              "      <td>0.433</td>\n",
              "      <td>NK</td>\n",
              "      <td>0.550</td>\n",
              "      <td>MS</td>\n",
              "      <td>0.4915</td>\n",
              "      <td>NaN</td>\n",
              "      <td>NaN</td>\n",
              "      <td>NaN</td>\n",
              "      <td>NaN</td>\n",
              "      <td>NaN</td>\n",
              "      <td>NaN</td>\n",
              "      <td>NaN</td>\n",
              "      <td>NaN</td>\n",
              "      <td>NaN</td>\n",
              "      <td>NaN</td>\n",
              "      <td>0.08</td>\n",
              "      <td>NK</td>\n",
              "      <td>0.08</td>\n",
              "      <td>MS</td>\n",
              "      <td>0.08</td>\n",
              "      <td>0</td>\n",
              "      <td>0</td>\n",
              "      <td>1</td>\n",
              "    </tr>\n",
              "    <tr>\n",
              "      <th>3</th>\n",
              "      <td>KB4</td>\n",
              "      <td>19</td>\n",
              "      <td>Female</td>\n",
              "      <td>11/21/16</td>\n",
              "      <td>11/28/16</td>\n",
              "      <td>Concept</td>\n",
              "      <td>1</td>\n",
              "      <td>1</td>\n",
              "      <td>1</td>\n",
              "      <td>1</td>\n",
              "      <td>0.0</td>\n",
              "      <td>0.70</td>\n",
              "      <td>0.317</td>\n",
              "      <td>NK</td>\n",
              "      <td>0.333</td>\n",
              "      <td>MS</td>\n",
              "      <td>0.3250</td>\n",
              "      <td>NaN</td>\n",
              "      <td>NaN</td>\n",
              "      <td>NaN</td>\n",
              "      <td>NaN</td>\n",
              "      <td>NaN</td>\n",
              "      <td>NaN</td>\n",
              "      <td>NaN</td>\n",
              "      <td>NaN</td>\n",
              "      <td>NaN</td>\n",
              "      <td>NaN</td>\n",
              "      <td>0.44</td>\n",
              "      <td>MS</td>\n",
              "      <td>0.42</td>\n",
              "      <td>NK</td>\n",
              "      <td>0.43</td>\n",
              "      <td>0</td>\n",
              "      <td>0</td>\n",
              "      <td>1</td>\n",
              "    </tr>\n",
              "    <tr>\n",
              "      <th>4</th>\n",
              "      <td>KB5</td>\n",
              "      <td>19</td>\n",
              "      <td>Female</td>\n",
              "      <td>11/22/16</td>\n",
              "      <td>11/29/16</td>\n",
              "      <td>Concept</td>\n",
              "      <td>1</td>\n",
              "      <td>1</td>\n",
              "      <td>1</td>\n",
              "      <td>1</td>\n",
              "      <td>0.0</td>\n",
              "      <td>0.95</td>\n",
              "      <td>0.683</td>\n",
              "      <td>NK</td>\n",
              "      <td>0.717</td>\n",
              "      <td>MS</td>\n",
              "      <td>0.7000</td>\n",
              "      <td>NaN</td>\n",
              "      <td>NaN</td>\n",
              "      <td>NaN</td>\n",
              "      <td>NaN</td>\n",
              "      <td>NaN</td>\n",
              "      <td>NaN</td>\n",
              "      <td>NaN</td>\n",
              "      <td>NaN</td>\n",
              "      <td>NaN</td>\n",
              "      <td>NaN</td>\n",
              "      <td>0.26</td>\n",
              "      <td>NK</td>\n",
              "      <td>0.28</td>\n",
              "      <td>MS</td>\n",
              "      <td>0.27</td>\n",
              "      <td>0</td>\n",
              "      <td>0</td>\n",
              "      <td>1</td>\n",
              "    </tr>\n",
              "  </tbody>\n",
              "</table>\n",
              "</div>\n",
              "      <button class=\"colab-df-convert\" onclick=\"convertToInteractive('df-3b70c7d1-3852-41b1-a251-6ab2978dbcc5')\"\n",
              "              title=\"Convert this dataframe to an interactive table.\"\n",
              "              style=\"display:none;\">\n",
              "        \n",
              "  <svg xmlns=\"http://www.w3.org/2000/svg\" height=\"24px\"viewBox=\"0 0 24 24\"\n",
              "       width=\"24px\">\n",
              "    <path d=\"M0 0h24v24H0V0z\" fill=\"none\"/>\n",
              "    <path d=\"M18.56 5.44l.94 2.06.94-2.06 2.06-.94-2.06-.94-.94-2.06-.94 2.06-2.06.94zm-11 1L8.5 8.5l.94-2.06 2.06-.94-2.06-.94L8.5 2.5l-.94 2.06-2.06.94zm10 10l.94 2.06.94-2.06 2.06-.94-2.06-.94-.94-2.06-.94 2.06-2.06.94z\"/><path d=\"M17.41 7.96l-1.37-1.37c-.4-.4-.92-.59-1.43-.59-.52 0-1.04.2-1.43.59L10.3 9.45l-7.72 7.72c-.78.78-.78 2.05 0 2.83L4 21.41c.39.39.9.59 1.41.59.51 0 1.02-.2 1.41-.59l7.78-7.78 2.81-2.81c.8-.78.8-2.07 0-2.86zM5.41 20L4 18.59l7.72-7.72 1.47 1.35L5.41 20z\"/>\n",
              "  </svg>\n",
              "      </button>\n",
              "      \n",
              "  <style>\n",
              "    .colab-df-container {\n",
              "      display:flex;\n",
              "      flex-wrap:wrap;\n",
              "      gap: 12px;\n",
              "    }\n",
              "\n",
              "    .colab-df-convert {\n",
              "      background-color: #E8F0FE;\n",
              "      border: none;\n",
              "      border-radius: 50%;\n",
              "      cursor: pointer;\n",
              "      display: none;\n",
              "      fill: #1967D2;\n",
              "      height: 32px;\n",
              "      padding: 0 0 0 0;\n",
              "      width: 32px;\n",
              "    }\n",
              "\n",
              "    .colab-df-convert:hover {\n",
              "      background-color: #E2EBFA;\n",
              "      box-shadow: 0px 1px 2px rgba(60, 64, 67, 0.3), 0px 1px 3px 1px rgba(60, 64, 67, 0.15);\n",
              "      fill: #174EA6;\n",
              "    }\n",
              "\n",
              "    [theme=dark] .colab-df-convert {\n",
              "      background-color: #3B4455;\n",
              "      fill: #D2E3FC;\n",
              "    }\n",
              "\n",
              "    [theme=dark] .colab-df-convert:hover {\n",
              "      background-color: #434B5C;\n",
              "      box-shadow: 0px 1px 3px 1px rgba(0, 0, 0, 0.15);\n",
              "      filter: drop-shadow(0px 1px 2px rgba(0, 0, 0, 0.3));\n",
              "      fill: #FFFFFF;\n",
              "    }\n",
              "  </style>\n",
              "\n",
              "      <script>\n",
              "        const buttonEl =\n",
              "          document.querySelector('#df-3b70c7d1-3852-41b1-a251-6ab2978dbcc5 button.colab-df-convert');\n",
              "        buttonEl.style.display =\n",
              "          google.colab.kernel.accessAllowed ? 'block' : 'none';\n",
              "\n",
              "        async function convertToInteractive(key) {\n",
              "          const element = document.querySelector('#df-3b70c7d1-3852-41b1-a251-6ab2978dbcc5');\n",
              "          const dataTable =\n",
              "            await google.colab.kernel.invokeFunction('convertToInteractive',\n",
              "                                                     [key], {});\n",
              "          if (!dataTable) return;\n",
              "\n",
              "          const docLinkHtml = 'Like what you see? Visit the ' +\n",
              "            '<a target=\"_blank\" href=https://colab.research.google.com/notebooks/data_table.ipynb>data table notebook</a>'\n",
              "            + ' to learn more about interactive tables.';\n",
              "          element.innerHTML = '';\n",
              "          dataTable['output_type'] = 'display_data';\n",
              "          await google.colab.output.renderOutput(dataTable, element);\n",
              "          const docLink = document.createElement('div');\n",
              "          docLink.innerHTML = docLinkHtml;\n",
              "          element.appendChild(docLink);\n",
              "        }\n",
              "      </script>\n",
              "    </div>\n",
              "  </div>\n",
              "  "
            ],
            "text/plain": [
              "    ID  Age  Gender   Date.P1  ... TS.avg Exc.1  Exc.2  Collection\n",
              "0  KB1   18  Female  11/21/16  ...   0.39     0      0           1\n",
              "1  KB2   18    Male  11/21/16  ...   0.42     0      0           1\n",
              "2  KB3   18    Male  11/21/16  ...   0.08     0      0           1\n",
              "3  KB4   19  Female  11/21/16  ...   0.43     0      0           1\n",
              "4  KB5   19  Female  11/22/16  ...   0.27     0      0           1\n",
              "\n",
              "[5 rows x 35 columns]"
            ]
          },
          "metadata": {},
          "execution_count": 6
        }
      ]
    },
    {
      "cell_type": "markdown",
      "metadata": {
        "id": "UfEXABNbOIca"
      },
      "source": [
        "# Question 1\n",
        "\n",
        "Which group felt like they learned more: the subjects who made concept maps or the ones who practiced retrieval? (Or are they about the same?) Make an appropriate visualization and explain what you see.\n",
        "\n",
        "_Hint:_ Use the variable `PR.2`, which contains the participants' predictions of how well they would do on a test one week later."
      ]
    },
    {
      "cell_type": "code",
      "source": [
        "from altair import *"
      ],
      "metadata": {
        "id": "OHciKNRMxToR"
      },
      "execution_count": null,
      "outputs": []
    },
    {
      "cell_type": "code",
      "source": [
        "Chart(df_learning).mark_boxplot(extent=\"min-max\").encode(\n",
        "    x = \"PR.2\",\n",
        "    y = \"Condition\"\n",
        ")"
      ],
      "metadata": {
        "colab": {
          "base_uri": "https://localhost:8080/",
          "height": 109
        },
        "id": "Wmy7b9V-MoV8",
        "outputId": "b2ffbaf8-4a11-4ced-fa8a-707c1e735a94"
      },
      "execution_count": null,
      "outputs": [
        {
          "output_type": "execute_result",
          "data": {
            "text/plain": [
              "alt.Chart(...)"
            ],
            "text/html": [
              "\n",
              "<div id=\"altair-viz-8ed421c70a894adaadb36ed2cb2decff\"></div>\n",
              "<script type=\"text/javascript\">\n",
              "  var VEGA_DEBUG = (typeof VEGA_DEBUG == \"undefined\") ? {} : VEGA_DEBUG;\n",
              "  (function(spec, embedOpt){\n",
              "    let outputDiv = document.currentScript.previousElementSibling;\n",
              "    if (outputDiv.id !== \"altair-viz-8ed421c70a894adaadb36ed2cb2decff\") {\n",
              "      outputDiv = document.getElementById(\"altair-viz-8ed421c70a894adaadb36ed2cb2decff\");\n",
              "    }\n",
              "    const paths = {\n",
              "      \"vega\": \"https://cdn.jsdelivr.net/npm//vega@5?noext\",\n",
              "      \"vega-lib\": \"https://cdn.jsdelivr.net/npm//vega-lib?noext\",\n",
              "      \"vega-lite\": \"https://cdn.jsdelivr.net/npm//vega-lite@4.17.0?noext\",\n",
              "      \"vega-embed\": \"https://cdn.jsdelivr.net/npm//vega-embed@6?noext\",\n",
              "    };\n",
              "\n",
              "    function maybeLoadScript(lib, version) {\n",
              "      var key = `${lib.replace(\"-\", \"\")}_version`;\n",
              "      return (VEGA_DEBUG[key] == version) ?\n",
              "        Promise.resolve(paths[lib]) :\n",
              "        new Promise(function(resolve, reject) {\n",
              "          var s = document.createElement('script');\n",
              "          document.getElementsByTagName(\"head\")[0].appendChild(s);\n",
              "          s.async = true;\n",
              "          s.onload = () => {\n",
              "            VEGA_DEBUG[key] = version;\n",
              "            return resolve(paths[lib]);\n",
              "          };\n",
              "          s.onerror = () => reject(`Error loading script: ${paths[lib]}`);\n",
              "          s.src = paths[lib];\n",
              "        });\n",
              "    }\n",
              "\n",
              "    function showError(err) {\n",
              "      outputDiv.innerHTML = `<div class=\"error\" style=\"color:red;\">${err}</div>`;\n",
              "      throw err;\n",
              "    }\n",
              "\n",
              "    function displayChart(vegaEmbed) {\n",
              "      vegaEmbed(outputDiv, spec, embedOpt)\n",
              "        .catch(err => showError(`Javascript Error: ${err.message}<br>This usually means there's a typo in your chart specification. See the javascript console for the full traceback.`));\n",
              "    }\n",
              "\n",
              "    if(typeof define === \"function\" && define.amd) {\n",
              "      requirejs.config({paths});\n",
              "      require([\"vega-embed\"], displayChart, err => showError(`Error loading script: ${err.message}`));\n",
              "    } else {\n",
              "      maybeLoadScript(\"vega\", \"5\")\n",
              "        .then(() => maybeLoadScript(\"vega-lite\", \"4.17.0\"))\n",
              "        .then(() => maybeLoadScript(\"vega-embed\", \"6\"))\n",
              "        .catch(showError)\n",
              "        .then(() => displayChart(vegaEmbed));\n",
              "    }\n",
              "  })({\"config\": {\"view\": {\"continuousWidth\": 400, \"continuousHeight\": 300}}, \"data\": {\"name\": \"data-b97b4773ab608bcfaf6c1c57c319138d\"}, \"mark\": {\"type\": \"boxplot\", \"extent\": \"min-max\"}, \"encoding\": {\"x\": {\"field\": \"PR.2\", \"type\": \"quantitative\"}, \"y\": {\"field\": \"Condition\", \"type\": \"nominal\"}}, \"$schema\": \"https://vega.github.io/schema/vega-lite/v4.17.0.json\", \"datasets\": {\"data-b97b4773ab608bcfaf6c1c57c319138d\": [{\"ID\": \"KB1\", \"Age\": 18, \"Gender\": \"Female\", \"Date.P1\": \"11/21/16\", \"Date.P2\": \"11/28/16\", \"Condition\": \"Concept\", \"IC.1\": 1, \"IC.2\": 1, \"Comp.1\": 1, \"Comp.2\": 1, \"PR.1\": 1.0, \"PR.2\": 0.8, \"MCS.1\": 0.75, \"Scorer.1\": \"NK\", \"MCS.2\": 0.67, \"Scorer.2\": \"TT\", \"MCS.avg\": 0.71, \"R1CS.1\": null, \"Scorer.1.1\": null, \"R1CS.2\": null, \"Scorer.2.1\": null, \"R1CS.avg\": null, \"R2CS.1\": null, \"Scorer.1.2\": null, \"R2CS.2\": null, \"Scorer.2.2\": null, \"R2CS.avg\": null, \"TS.1\": 0.36, \"Scorer.1.3\": \"NK\", \"TS.2\": 0.42, \"Scorer.2.3\": \"MS\", \"TS.avg\": 0.39, \"Exc.1\": 0, \"Exc.2\": 0, \"Collection\": 1}, {\"ID\": \"KB2\", \"Age\": 18, \"Gender\": \"Male\", \"Date.P1\": \"11/21/16\", \"Date.P2\": \"11/28/16\", \"Condition\": \"Concept\", \"IC.1\": 1, \"IC.2\": 1, \"Comp.1\": 1, \"Comp.2\": 1, \"PR.1\": 0.0, \"PR.2\": 0.7, \"MCS.1\": 0.4, \"Scorer.1\": \"NK\", \"MCS.2\": 0.36700000000000005, \"Scorer.2\": \"TT\", \"MCS.avg\": 0.3835, \"R1CS.1\": null, \"Scorer.1.1\": null, \"R1CS.2\": null, \"Scorer.2.1\": null, \"R1CS.avg\": null, \"R2CS.1\": null, \"Scorer.1.2\": null, \"R2CS.2\": null, \"Scorer.2.2\": null, \"R2CS.avg\": null, \"TS.1\": 0.48, \"Scorer.1.3\": \"MS\", \"TS.2\": 0.36, \"Scorer.2.3\": \"NK\", \"TS.avg\": 0.42, \"Exc.1\": 0, \"Exc.2\": 0, \"Collection\": 1}, {\"ID\": \"KB3\", \"Age\": 18, \"Gender\": \"Male\", \"Date.P1\": \"11/21/16\", \"Date.P2\": \"11/28/16\", \"Condition\": \"Concept\", \"IC.1\": 1, \"IC.2\": 1, \"Comp.1\": 1, \"Comp.2\": 1, \"PR.1\": 0.0, \"PR.2\": 0.7, \"MCS.1\": 0.433, \"Scorer.1\": \"NK\", \"MCS.2\": 0.55, \"Scorer.2\": \"MS\", \"MCS.avg\": 0.4915, \"R1CS.1\": null, \"Scorer.1.1\": null, \"R1CS.2\": null, \"Scorer.2.1\": null, \"R1CS.avg\": null, \"R2CS.1\": null, \"Scorer.1.2\": null, \"R2CS.2\": null, \"Scorer.2.2\": null, \"R2CS.avg\": null, \"TS.1\": 0.08, \"Scorer.1.3\": \"NK\", \"TS.2\": 0.08, \"Scorer.2.3\": \"MS\", \"TS.avg\": 0.08, \"Exc.1\": 0, \"Exc.2\": 0, \"Collection\": 1}, {\"ID\": \"KB4\", \"Age\": 19, \"Gender\": \"Female\", \"Date.P1\": \"11/21/16\", \"Date.P2\": \"11/28/16\", \"Condition\": \"Concept\", \"IC.1\": 1, \"IC.2\": 1, \"Comp.1\": 1, \"Comp.2\": 1, \"PR.1\": 0.0, \"PR.2\": 0.7, \"MCS.1\": 0.317, \"Scorer.1\": \"NK\", \"MCS.2\": 0.33299999999999996, \"Scorer.2\": \"MS\", \"MCS.avg\": 0.325, \"R1CS.1\": null, \"Scorer.1.1\": null, \"R1CS.2\": null, \"Scorer.2.1\": null, \"R1CS.avg\": null, \"R2CS.1\": null, \"Scorer.1.2\": null, \"R2CS.2\": null, \"Scorer.2.2\": null, \"R2CS.avg\": null, \"TS.1\": 0.44, \"Scorer.1.3\": \"MS\", \"TS.2\": 0.42, \"Scorer.2.3\": \"NK\", \"TS.avg\": 0.43, \"Exc.1\": 0, \"Exc.2\": 0, \"Collection\": 1}, {\"ID\": \"KB5\", \"Age\": 19, \"Gender\": \"Female\", \"Date.P1\": \"11/22/16\", \"Date.P2\": \"11/29/16\", \"Condition\": \"Concept\", \"IC.1\": 1, \"IC.2\": 1, \"Comp.1\": 1, \"Comp.2\": 1, \"PR.1\": 0.0, \"PR.2\": 0.95, \"MCS.1\": 0.6829999999999999, \"Scorer.1\": \"NK\", \"MCS.2\": 0.7170000000000001, \"Scorer.2\": \"MS\", \"MCS.avg\": 0.7, \"R1CS.1\": null, \"Scorer.1.1\": null, \"R1CS.2\": null, \"Scorer.2.1\": null, \"R1CS.avg\": null, \"R2CS.1\": null, \"Scorer.1.2\": null, \"R2CS.2\": null, \"Scorer.2.2\": null, \"R2CS.avg\": null, \"TS.1\": 0.26, \"Scorer.1.3\": \"NK\", \"TS.2\": 0.28, \"Scorer.2.3\": \"MS\", \"TS.avg\": 0.27, \"Exc.1\": 0, \"Exc.2\": 0, \"Collection\": 1}, {\"ID\": \"KB6\", \"Age\": 19, \"Gender\": \"Male\", \"Date.P1\": \"11/22/16\", \"Date.P2\": \"11/29/16\", \"Condition\": \"Concept\", \"IC.1\": 1, \"IC.2\": 1, \"Comp.1\": 1, \"Comp.2\": 1, \"PR.1\": 1.0, \"PR.2\": 0.6, \"MCS.1\": 0.8170000000000001, \"Scorer.1\": \"NK\", \"MCS.2\": 0.7829999999999999, \"Scorer.2\": \"MS\", \"MCS.avg\": 0.8, \"R1CS.1\": null, \"Scorer.1.1\": null, \"R1CS.2\": null, \"Scorer.2.1\": null, \"R1CS.avg\": null, \"R2CS.1\": null, \"Scorer.1.2\": null, \"R2CS.2\": null, \"Scorer.2.2\": null, \"R2CS.avg\": null, \"TS.1\": 0.4, \"Scorer.1.3\": \"NK\", \"TS.2\": 0.46, \"Scorer.2.3\": \"MS\", \"TS.avg\": 0.43, \"Exc.1\": 0, \"Exc.2\": 0, \"Collection\": 1}, {\"ID\": \"KB7\", \"Age\": 18, \"Gender\": \"Male\", \"Date.P1\": \"11/22/16\", \"Date.P2\": \"12/6/16\", \"Condition\": \"Concept\", \"IC.1\": 1, \"IC.2\": 1, \"Comp.1\": 1, \"Comp.2\": 1, \"PR.1\": 1.0, \"PR.2\": 0.6, \"MCS.1\": 0.733, \"Scorer.1\": \"NK\", \"MCS.2\": 0.767, \"Scorer.2\": \"MS\", \"MCS.avg\": 0.75, \"R1CS.1\": null, \"Scorer.1.1\": null, \"R1CS.2\": null, \"Scorer.2.1\": null, \"R1CS.avg\": null, \"R2CS.1\": null, \"Scorer.1.2\": null, \"R2CS.2\": null, \"Scorer.2.2\": null, \"R2CS.avg\": null, \"TS.1\": 0.38, \"Scorer.1.3\": \"MS\", \"TS.2\": 0.36, \"Scorer.2.3\": \"CB\", \"TS.avg\": 0.37, \"Exc.1\": 0, \"Exc.2\": 0, \"Collection\": 1}, {\"ID\": \"KB8\", \"Age\": 20, \"Gender\": \"Male\", \"Date.P1\": \"11/22/16\", \"Date.P2\": \"11/29/16\", \"Condition\": \"Concept\", \"IC.1\": 1, \"IC.2\": 1, \"Comp.1\": 1, \"Comp.2\": 1, \"PR.1\": 1.0, \"PR.2\": 0.5, \"MCS.1\": 0.35, \"Scorer.1\": \"NK\", \"MCS.2\": 0.33299999999999996, \"Scorer.2\": \"MS\", \"MCS.avg\": 0.3415, \"R1CS.1\": null, \"Scorer.1.1\": null, \"R1CS.2\": null, \"Scorer.2.1\": null, \"R1CS.avg\": null, \"R2CS.1\": null, \"Scorer.1.2\": null, \"R2CS.2\": null, \"Scorer.2.2\": null, \"R2CS.avg\": null, \"TS.1\": 0.44, \"Scorer.1.3\": \"NK\", \"TS.2\": 0.46, \"Scorer.2.3\": \"MS\", \"TS.avg\": 0.45, \"Exc.1\": 0, \"Exc.2\": 0, \"Collection\": 1}, {\"ID\": \"KB9\", \"Age\": 20, \"Gender\": \"Male\", \"Date.P1\": \"11/22/16\", \"Date.P2\": \"11/28/16\", \"Condition\": \"Concept\", \"IC.1\": 1, \"IC.2\": 1, \"Comp.1\": 1, \"Comp.2\": 1, \"PR.1\": 0.0, \"PR.2\": 0.6, \"MCS.1\": 0.65, \"Scorer.1\": \"NK\", \"MCS.2\": 0.65, \"Scorer.2\": \"MS\", \"MCS.avg\": 0.65, \"R1CS.1\": null, \"Scorer.1.1\": null, \"R1CS.2\": null, \"Scorer.2.1\": null, \"R1CS.avg\": null, \"R2CS.1\": null, \"Scorer.1.2\": null, \"R2CS.2\": null, \"Scorer.2.2\": null, \"R2CS.avg\": null, \"TS.1\": 0.64, \"Scorer.1.3\": \"MS\", \"TS.2\": 0.58, \"Scorer.2.3\": \"NK\", \"TS.avg\": 0.61, \"Exc.1\": 0, \"Exc.2\": 0, \"Collection\": 1}, {\"ID\": \"KB10\", \"Age\": 20, \"Gender\": \"Female\", \"Date.P1\": \"11/29/16\", \"Date.P2\": \"12/6/16\", \"Condition\": \"Concept\", \"IC.1\": 1, \"IC.2\": 1, \"Comp.1\": 1, \"Comp.2\": 1, \"PR.1\": 1.0, \"PR.2\": 0.9, \"MCS.1\": 0.8170000000000001, \"Scorer.1\": \"NK\", \"MCS.2\": 0.7829999999999999, \"Scorer.2\": \"MS\", \"MCS.avg\": 0.8, \"R1CS.1\": null, \"Scorer.1.1\": null, \"R1CS.2\": null, \"Scorer.2.1\": null, \"R1CS.avg\": null, \"R2CS.1\": null, \"Scorer.1.2\": null, \"R2CS.2\": null, \"Scorer.2.2\": null, \"R2CS.avg\": null, \"TS.1\": 0.66, \"Scorer.1.3\": \"NK\", \"TS.2\": 0.7, \"Scorer.2.3\": \"MS\", \"TS.avg\": 0.68, \"Exc.1\": 0, \"Exc.2\": 0, \"Collection\": 1}, {\"ID\": \"KB11\", \"Age\": 21, \"Gender\": \"Female\", \"Date.P1\": \"11/21/16\", \"Date.P2\": \"11/28/16\", \"Condition\": \"Retrieval\", \"IC.1\": 1, \"IC.2\": 1, \"Comp.1\": 1, \"Comp.2\": 1, \"PR.1\": null, \"PR.2\": 0.4, \"MCS.1\": null, \"Scorer.1\": null, \"MCS.2\": null, \"Scorer.2\": null, \"MCS.avg\": null, \"R1CS.1\": 0.6, \"Scorer.1.1\": \"NK\", \"R1CS.2\": 0.6, \"Scorer.2.1\": \"TT\", \"R1CS.avg\": 0.6, \"R2CS.1\": 0.76, \"Scorer.1.2\": \"NK\", \"R2CS.2\": 0.7829999999999999, \"Scorer.2.2\": \"TT\", \"R2CS.avg\": 0.772, \"TS.1\": 0.38, \"Scorer.1.3\": \"MS\", \"TS.2\": 0.3, \"Scorer.2.3\": \"NK\", \"TS.avg\": 0.34, \"Exc.1\": 0, \"Exc.2\": 0, \"Collection\": 1}, {\"ID\": \"KB12\", \"Age\": 18, \"Gender\": \"Female\", \"Date.P1\": \"11/21/16\", \"Date.P2\": \"11/29/16\", \"Condition\": \"Retrieval\", \"IC.1\": 1, \"IC.2\": 1, \"Comp.1\": 1, \"Comp.2\": 1, \"PR.1\": null, \"PR.2\": 0.6, \"MCS.1\": null, \"Scorer.1\": null, \"MCS.2\": null, \"Scorer.2\": null, \"MCS.avg\": null, \"R1CS.1\": 0.81, \"Scorer.1.1\": \"NK\", \"R1CS.2\": 0.85, \"Scorer.2.1\": \"TT\", \"R1CS.avg\": 0.83, \"R2CS.1\": 0.93, \"Scorer.1.2\": \"NK\", \"R2CS.2\": 0.9329999999999999, \"Scorer.2.2\": \"TT\", \"R2CS.avg\": 0.932, \"TS.1\": 0.76, \"Scorer.1.3\": \"NK\", \"TS.2\": 0.82, \"Scorer.2.3\": \"MS\", \"TS.avg\": 0.79, \"Exc.1\": 0, \"Exc.2\": 0, \"Collection\": 1}, {\"ID\": \"KB13\", \"Age\": 20, \"Gender\": \"Female\", \"Date.P1\": \"11/21/16\", \"Date.P2\": \"11/28/16\", \"Condition\": \"Retrieval\", \"IC.1\": 1, \"IC.2\": 1, \"Comp.1\": 1, \"Comp.2\": 1, \"PR.1\": null, \"PR.2\": 0.9, \"MCS.1\": null, \"Scorer.1\": null, \"MCS.2\": null, \"Scorer.2\": null, \"MCS.avg\": null, \"R1CS.1\": 0.63, \"Scorer.1.1\": \"NK\", \"R1CS.2\": 0.617, \"Scorer.2.1\": \"TT\", \"R1CS.avg\": 0.624, \"R2CS.1\": 0.76, \"Scorer.1.2\": \"NK\", \"R2CS.2\": 0.8, \"Scorer.2.2\": \"TT\", \"R2CS.avg\": 0.78, \"TS.1\": 0.8, \"Scorer.1.3\": \"MS\", \"TS.2\": 0.8, \"Scorer.2.3\": \"NK\", \"TS.avg\": 0.8, \"Exc.1\": 0, \"Exc.2\": 0, \"Collection\": 1}, {\"ID\": \"KB14\", \"Age\": 19, \"Gender\": \"Female\", \"Date.P1\": \"11/21/16\", \"Date.P2\": \"11/28/16\", \"Condition\": \"Retrieval\", \"IC.1\": 1, \"IC.2\": 1, \"Comp.1\": 1, \"Comp.2\": 1, \"PR.1\": null, \"PR.2\": 0.7, \"MCS.1\": null, \"Scorer.1\": null, \"MCS.2\": null, \"Scorer.2\": null, \"MCS.avg\": null, \"R1CS.1\": 0.56, \"Scorer.1.1\": \"NK\", \"R1CS.2\": 0.5670000000000001, \"Scorer.2.1\": \"TT\", \"R1CS.avg\": 0.564, \"R2CS.1\": 0.18, \"Scorer.1.2\": \"NK\", \"R2CS.2\": 0.16699999999999998, \"Scorer.2.2\": \"TT\", \"R2CS.avg\": 0.174, \"TS.1\": 0.48, \"Scorer.1.3\": \"MS\", \"TS.2\": 0.4, \"Scorer.2.3\": \"NK\", \"TS.avg\": 0.44, \"Exc.1\": 0, \"Exc.2\": 0, \"Collection\": 1}, {\"ID\": \"KB15\", \"Age\": 18, \"Gender\": \"Female\", \"Date.P1\": \"11/22/16\", \"Date.P2\": \"11/29/16\", \"Condition\": \"Retrieval\", \"IC.1\": 1, \"IC.2\": 1, \"Comp.1\": 1, \"Comp.2\": 1, \"PR.1\": null, \"PR.2\": 0.3, \"MCS.1\": null, \"Scorer.1\": null, \"MCS.2\": null, \"Scorer.2\": null, \"MCS.avg\": null, \"R1CS.1\": 0.4, \"Scorer.1.1\": \"TT\", \"R1CS.2\": 0.35, \"Scorer.2.1\": \"LH\", \"R1CS.avg\": 0.375, \"R2CS.1\": 0.483, \"Scorer.1.2\": \"TT\", \"R2CS.2\": 0.55, \"Scorer.2.2\": \"LH\", \"R2CS.avg\": 0.517, \"TS.1\": 0.34, \"Scorer.1.3\": \"MS\", \"TS.2\": 0.34, \"Scorer.2.3\": \"CB\", \"TS.avg\": 0.34, \"Exc.1\": 0, \"Exc.2\": 0, \"Collection\": 1}, {\"ID\": \"KB16\", \"Age\": 19, \"Gender\": \"Male\", \"Date.P1\": \"11/22/16\", \"Date.P2\": \"11/29/16\", \"Condition\": \"Retrieval\", \"IC.1\": 1, \"IC.2\": 1, \"Comp.1\": 1, \"Comp.2\": 1, \"PR.1\": null, \"PR.2\": 0.4, \"MCS.1\": null, \"Scorer.1\": null, \"MCS.2\": null, \"Scorer.2\": null, \"MCS.avg\": null, \"R1CS.1\": 0.5, \"Scorer.1.1\": \"TT\", \"R1CS.2\": 0.55, \"Scorer.2.1\": \"LH\", \"R1CS.avg\": 0.525, \"R2CS.1\": 0.8, \"Scorer.1.2\": \"TT\", \"R2CS.2\": 0.83, \"Scorer.2.2\": \"LH\", \"R2CS.avg\": 0.82, \"TS.1\": 0.6, \"Scorer.1.3\": \"NK\", \"TS.2\": 0.6, \"Scorer.2.3\": \"MS\", \"TS.avg\": 0.6, \"Exc.1\": 0, \"Exc.2\": 0, \"Collection\": 1}, {\"ID\": \"KB18\", \"Age\": 20, \"Gender\": \"Male\", \"Date.P1\": \"11/22/16\", \"Date.P2\": \"11/29/16\", \"Condition\": \"Retrieval\", \"IC.1\": 1, \"IC.2\": 1, \"Comp.1\": 1, \"Comp.2\": 1, \"PR.1\": null, \"PR.2\": 0.7, \"MCS.1\": null, \"Scorer.1\": null, \"MCS.2\": null, \"Scorer.2\": null, \"MCS.avg\": null, \"R1CS.1\": 0.7, \"Scorer.1.1\": \"TT\", \"R1CS.2\": 0.67, \"Scorer.2.1\": \"LH\", \"R1CS.avg\": 0.685, \"R2CS.1\": 0.8, \"Scorer.1.2\": \"TT\", \"R2CS.2\": 0.883, \"Scorer.2.2\": \"LH\", \"R2CS.avg\": 0.8420000000000001, \"TS.1\": 0.6, \"Scorer.1.3\": \"MS\", \"TS.2\": 0.64, \"Scorer.2.3\": \"CB\", \"TS.avg\": 0.62, \"Exc.1\": 0, \"Exc.2\": 0, \"Collection\": 1}, {\"ID\": \"KB19\", \"Age\": 21, \"Gender\": \"Female\", \"Date.P1\": \"11/29/16\", \"Date.P2\": \"12/6/16\", \"Condition\": \"Retrieval\", \"IC.1\": 1, \"IC.2\": 1, \"Comp.1\": 1, \"Comp.2\": 1, \"PR.1\": null, \"PR.2\": 0.4, \"MCS.1\": null, \"Scorer.1\": null, \"MCS.2\": null, \"Scorer.2\": null, \"MCS.avg\": null, \"R1CS.1\": 0.57, \"Scorer.1.1\": \"LH\", \"R1CS.2\": 0.65, \"Scorer.2.1\": \"TT\", \"R1CS.avg\": 0.61, \"R2CS.1\": 0.73, \"Scorer.1.2\": \"LH\", \"R2CS.2\": 0.8170000000000001, \"Scorer.2.2\": \"TT\", \"R2CS.avg\": 0.774, \"TS.1\": 0.72, \"Scorer.1.3\": \"NK\", \"TS.2\": 0.74, \"Scorer.2.3\": \"MS\", \"TS.avg\": 0.73, \"Exc.1\": 0, \"Exc.2\": 0, \"Collection\": 1}, {\"ID\": \"KB20\", \"Age\": 17, \"Gender\": \"Male\", \"Date.P1\": \"11/29/16\", \"Date.P2\": \"12/6/16\", \"Condition\": \"Retrieval\", \"IC.1\": 1, \"IC.2\": 1, \"Comp.1\": 1, \"Comp.2\": 1, \"PR.1\": null, \"PR.2\": 0.6, \"MCS.1\": null, \"Scorer.1\": null, \"MCS.2\": null, \"Scorer.2\": null, \"MCS.avg\": null, \"R1CS.1\": 0.583, \"Scorer.1.1\": \"LH\", \"R1CS.2\": 0.633, \"Scorer.2.1\": \"TT\", \"R1CS.avg\": 0.61, \"R2CS.1\": 0.733, \"Scorer.1.2\": \"LH\", \"R2CS.2\": 0.767, \"Scorer.2.2\": \"TT\", \"R2CS.avg\": 0.75, \"TS.1\": 0.62, \"Scorer.1.3\": \"NK\", \"TS.2\": 0.62, \"Scorer.2.3\": \"CB\", \"TS.avg\": 0.62, \"Exc.1\": 0, \"Exc.2\": 0, \"Collection\": 1}, {\"ID\": \"KB21\", \"Age\": 20, \"Gender\": \"Male\", \"Date.P1\": \"11/29/16\", \"Date.P2\": \"12/6/16\", \"Condition\": \"Concept\", \"IC.1\": 1, \"IC.2\": 1, \"Comp.1\": 1, \"Comp.2\": 1, \"PR.1\": 0.0, \"PR.2\": 0.8, \"MCS.1\": 0.55, \"Scorer.1\": \"NK\", \"MCS.2\": 0.583, \"Scorer.2\": \"CB\", \"MCS.avg\": 0.5670000000000001, \"R1CS.1\": null, \"Scorer.1.1\": null, \"R1CS.2\": null, \"Scorer.2.1\": null, \"R1CS.avg\": null, \"R2CS.1\": null, \"Scorer.1.2\": null, \"R2CS.2\": null, \"Scorer.2.2\": null, \"R2CS.avg\": null, \"TS.1\": 0.56, \"Scorer.1.3\": \"MS\", \"TS.2\": 0.6, \"Scorer.2.3\": \"CB\", \"TS.avg\": 0.58, \"Exc.1\": 0, \"Exc.2\": 0, \"Collection\": 1}, {\"ID\": \"KB22\", \"Age\": 18, \"Gender\": \"Male\", \"Date.P1\": \"11/29/16\", \"Date.P2\": \"12/6/16\", \"Condition\": \"Concept\", \"IC.1\": 1, \"IC.2\": 1, \"Comp.1\": 1, \"Comp.2\": 1, \"PR.1\": 0.0, \"PR.2\": 0.6, \"MCS.1\": 0.41700000000000004, \"Scorer.1\": \"NK\", \"MCS.2\": 0.433, \"Scorer.2\": \"CB\", \"MCS.avg\": 0.425, \"R1CS.1\": null, \"Scorer.1.1\": null, \"R1CS.2\": null, \"Scorer.2.1\": null, \"R1CS.avg\": null, \"R2CS.1\": null, \"Scorer.1.2\": null, \"R2CS.2\": null, \"Scorer.2.2\": null, \"R2CS.avg\": null, \"TS.1\": 0.18, \"Scorer.1.3\": \"NK\", \"TS.2\": 0.2, \"Scorer.2.3\": \"MS\", \"TS.avg\": 0.19, \"Exc.1\": 0, \"Exc.2\": 0, \"Collection\": 1}, {\"ID\": \"KB23\", \"Age\": 21, \"Gender\": \"Male\", \"Date.P1\": \"11/29/16\", \"Date.P2\": \"12/6/16\", \"Condition\": \"Concept\", \"IC.1\": 1, \"IC.2\": 1, \"Comp.1\": 1, \"Comp.2\": 1, \"PR.1\": 0.0, \"PR.2\": 0.9, \"MCS.1\": 0.56, \"Scorer.1\": \"MS\", \"MCS.2\": 0.45, \"Scorer.2\": \"CB\", \"MCS.avg\": 0.505, \"R1CS.1\": null, \"Scorer.1.1\": null, \"R1CS.2\": null, \"Scorer.2.1\": null, \"R1CS.avg\": null, \"R2CS.1\": null, \"Scorer.1.2\": null, \"R2CS.2\": null, \"Scorer.2.2\": null, \"R2CS.avg\": null, \"TS.1\": 0.68, \"Scorer.1.3\": \"MS\", \"TS.2\": 0.68, \"Scorer.2.3\": \"CB\", \"TS.avg\": 0.68, \"Exc.1\": 0, \"Exc.2\": 0, \"Collection\": 1}, {\"ID\": \"KB24\", \"Age\": 18, \"Gender\": \"Male\", \"Date.P1\": \"11/29/16\", \"Date.P2\": \"12/6/16\", \"Condition\": \"Concept\", \"IC.1\": 1, \"IC.2\": 1, \"Comp.1\": 1, \"Comp.2\": 1, \"PR.1\": 1.0, \"PR.2\": 0.9, \"MCS.1\": 0.917, \"Scorer.1\": \"MS\", \"MCS.2\": 0.8, \"Scorer.2\": \"NK\", \"MCS.avg\": 0.8590000000000001, \"R1CS.1\": null, \"Scorer.1.1\": null, \"R1CS.2\": null, \"Scorer.2.1\": null, \"R1CS.avg\": null, \"R2CS.1\": null, \"Scorer.1.2\": null, \"R2CS.2\": null, \"Scorer.2.2\": null, \"R2CS.avg\": null, \"TS.1\": 0.54, \"Scorer.1.3\": \"NK\", \"TS.2\": 0.52, \"Scorer.2.3\": \"MS\", \"TS.avg\": 0.53, \"Exc.1\": 0, \"Exc.2\": 0, \"Collection\": 1}, {\"ID\": \"KB25\", \"Age\": 19, \"Gender\": \"Male\", \"Date.P1\": \"11/29/16\", \"Date.P2\": \"12/6/16\", \"Condition\": \"Concept\", \"IC.1\": 1, \"IC.2\": 1, \"Comp.1\": 1, \"Comp.2\": 1, \"PR.1\": 1.0, \"PR.2\": 0.6, \"MCS.1\": 0.6829999999999999, \"Scorer.1\": \"MS\", \"MCS.2\": 0.667, \"Scorer.2\": \"NK\", \"MCS.avg\": 0.675, \"R1CS.1\": null, \"Scorer.1.1\": null, \"R1CS.2\": null, \"Scorer.2.1\": null, \"R1CS.avg\": null, \"R2CS.1\": null, \"Scorer.1.2\": null, \"R2CS.2\": null, \"Scorer.2.2\": null, \"R2CS.avg\": null, \"TS.1\": 0.56, \"Scorer.1.3\": \"NK\", \"TS.2\": 0.62, \"Scorer.2.3\": \"MS\", \"TS.avg\": 0.59, \"Exc.1\": 0, \"Exc.2\": 0, \"Collection\": 1}, {\"ID\": \"KB26\", \"Age\": 18, \"Gender\": \"Female\", \"Date.P1\": \"11/29/16\", \"Date.P2\": \"12/6/16\", \"Condition\": \"Concept\", \"IC.1\": 1, \"IC.2\": 1, \"Comp.1\": 1, \"Comp.2\": 1, \"PR.1\": 1.0, \"PR.2\": 0.7, \"MCS.1\": 0.667, \"Scorer.1\": \"TT\", \"MCS.2\": 0.65, \"Scorer.2\": \"NK\", \"MCS.avg\": 0.659, \"R1CS.1\": null, \"Scorer.1.1\": null, \"R1CS.2\": null, \"Scorer.2.1\": null, \"R1CS.avg\": null, \"R2CS.1\": null, \"Scorer.1.2\": null, \"R2CS.2\": null, \"Scorer.2.2\": null, \"R2CS.avg\": null, \"TS.1\": 0.3, \"Scorer.1.3\": \"MS\", \"TS.2\": 0.3, \"Scorer.2.3\": \"CB\", \"TS.avg\": 0.3, \"Exc.1\": 0, \"Exc.2\": 0, \"Collection\": 1}, {\"ID\": \"KB27\", \"Age\": 18, \"Gender\": \"Male\", \"Date.P1\": \"11/29/16\", \"Date.P2\": \"12/6/16\", \"Condition\": \"Concept\", \"IC.1\": 1, \"IC.2\": 1, \"Comp.1\": 1, \"Comp.2\": 1, \"PR.1\": 1.0, \"PR.2\": 0.7, \"MCS.1\": 0.5, \"Scorer.1\": \"NK\", \"MCS.2\": 0.5, \"Scorer.2\": \"MS\", \"MCS.avg\": 0.5, \"R1CS.1\": null, \"Scorer.1.1\": null, \"R1CS.2\": null, \"Scorer.2.1\": null, \"R1CS.avg\": null, \"R2CS.1\": null, \"Scorer.1.2\": null, \"R2CS.2\": null, \"Scorer.2.2\": null, \"R2CS.avg\": null, \"TS.1\": 0.52, \"Scorer.1.3\": \"MS\", \"TS.2\": 0.52, \"Scorer.2.3\": \"CB\", \"TS.avg\": 0.52, \"Exc.1\": 0, \"Exc.2\": 0, \"Collection\": 1}, {\"ID\": \"KB28\", \"Age\": 18, \"Gender\": \"Male\", \"Date.P1\": \"11/29/16\", \"Date.P2\": \"12/2/16\", \"Condition\": \"Concept\", \"IC.1\": 1, \"IC.2\": 1, \"Comp.1\": 1, \"Comp.2\": 1, \"PR.1\": 1.0, \"PR.2\": 0.5, \"MCS.1\": 0.55, \"Scorer.1\": \"NK\", \"MCS.2\": 0.617, \"Scorer.2\": \"MS\", \"MCS.avg\": 0.583, \"R1CS.1\": null, \"Scorer.1.1\": null, \"R1CS.2\": null, \"Scorer.2.1\": null, \"R1CS.avg\": null, \"R2CS.1\": null, \"Scorer.1.2\": null, \"R2CS.2\": null, \"Scorer.2.2\": null, \"R2CS.avg\": null, \"TS.1\": 0.42, \"Scorer.1.3\": \"NK\", \"TS.2\": 0.44, \"Scorer.2.3\": \"MS\", \"TS.avg\": 0.43, \"Exc.1\": 0, \"Exc.2\": 0, \"Collection\": 1}, {\"ID\": \"KB29\", \"Age\": 19, \"Gender\": \"Male\", \"Date.P1\": \"1/23/17\", \"Date.P2\": \"1/31/17\", \"Condition\": \"Concept\", \"IC.1\": 1, \"IC.2\": 1, \"Comp.1\": 1, \"Comp.2\": 1, \"PR.1\": 1.0, \"PR.2\": 0.9, \"MCS.1\": 0.867, \"Scorer.1\": \"TT\", \"MCS.2\": 0.85, \"Scorer.2\": \"NK\", \"MCS.avg\": 0.8585, \"R1CS.1\": null, \"Scorer.1.1\": null, \"R1CS.2\": null, \"Scorer.2.1\": null, \"R1CS.avg\": null, \"R2CS.1\": null, \"Scorer.1.2\": null, \"R2CS.2\": null, \"Scorer.2.2\": null, \"R2CS.avg\": null, \"TS.1\": 0.6, \"Scorer.1.3\": \"LH\", \"TS.2\": 0.6, \"Scorer.2.3\": \"TT\", \"TS.avg\": 0.6, \"Exc.1\": 0, \"Exc.2\": 0, \"Collection\": 1}, {\"ID\": \"KB30\", \"Age\": 18, \"Gender\": \"Female\", \"Date.P1\": \"1/23/17\", \"Date.P2\": \"1/31/17\", \"Condition\": \"Concept\", \"IC.1\": 1, \"IC.2\": 1, \"Comp.1\": 1, \"Comp.2\": 1, \"PR.1\": 1.0, \"PR.2\": 0.4, \"MCS.1\": 0.76, \"Scorer.1\": \"NK\", \"MCS.2\": 0.7829999999999999, \"Scorer.2\": \"TT\", \"MCS.avg\": 0.767, \"R1CS.1\": null, \"Scorer.1.1\": null, \"R1CS.2\": null, \"Scorer.2.1\": null, \"R1CS.avg\": null, \"R2CS.1\": null, \"Scorer.1.2\": null, \"R2CS.2\": null, \"Scorer.2.2\": null, \"R2CS.avg\": null, \"TS.1\": 0.8, \"Scorer.1.3\": \"LH\", \"TS.2\": 0.8, \"Scorer.2.3\": \"NK\", \"TS.avg\": 0.8, \"Exc.1\": 0, \"Exc.2\": 0, \"Collection\": 1}, {\"ID\": \"KB31\", \"Age\": 19, \"Gender\": \"Female\", \"Date.P1\": \"1/23/17\", \"Date.P2\": \"2/1/17\", \"Condition\": \"Concept\", \"IC.1\": 1, \"IC.2\": 1, \"Comp.1\": 1, \"Comp.2\": 1, \"PR.1\": 1.0, \"PR.2\": 0.6, \"MCS.1\": 0.733, \"Scorer.1\": \"TT\", \"MCS.2\": 0.75, \"Scorer.2\": \"NK\", \"MCS.avg\": 0.74, \"R1CS.1\": null, \"Scorer.1.1\": null, \"R1CS.2\": null, \"Scorer.2.1\": null, \"R1CS.avg\": null, \"R2CS.1\": null, \"Scorer.1.2\": null, \"R2CS.2\": null, \"Scorer.2.2\": null, \"R2CS.avg\": null, \"TS.1\": 0.22, \"Scorer.1.3\": \"LH\", \"TS.2\": 0.22, \"Scorer.2.3\": \"NK\", \"TS.avg\": 0.22, \"Exc.1\": 0, \"Exc.2\": 0, \"Collection\": 1}, {\"ID\": \"KB32\", \"Age\": 18, \"Gender\": \"Male\", \"Date.P1\": \"1/23/17\", \"Date.P2\": \"1/31/17\", \"Condition\": \"Concept\", \"IC.1\": 1, \"IC.2\": 1, \"Comp.1\": 1, \"Comp.2\": 1, \"PR.1\": 0.0, \"PR.2\": 0.7, \"MCS.1\": 0.62, \"Scorer.1\": \"NK\", \"MCS.2\": 0.633, \"Scorer.2\": \"TT\", \"MCS.avg\": 0.623, \"R1CS.1\": null, \"Scorer.1.1\": null, \"R1CS.2\": null, \"Scorer.2.1\": null, \"R1CS.avg\": null, \"R2CS.1\": null, \"Scorer.1.2\": null, \"R2CS.2\": null, \"Scorer.2.2\": null, \"R2CS.avg\": null, \"TS.1\": 0.54, \"Scorer.1.3\": \"LH\", \"TS.2\": 0.46, \"Scorer.2.3\": \"NK\", \"TS.avg\": 0.5, \"Exc.1\": 0, \"Exc.2\": 0, \"Collection\": 1}, {\"ID\": \"KB33\", \"Age\": 21, \"Gender\": \"Male\", \"Date.P1\": \"1/24/17\", \"Date.P2\": \"1/31/17\", \"Condition\": \"Concept\", \"IC.1\": 1, \"IC.2\": 1, \"Comp.1\": 1, \"Comp.2\": 1, \"PR.1\": 1.0, \"PR.2\": 0.7, \"MCS.1\": 0.767, \"Scorer.1\": \"TT\", \"MCS.2\": 0.8, \"Scorer.2\": \"NK\", \"MCS.avg\": 0.785, \"R1CS.1\": null, \"Scorer.1.1\": null, \"R1CS.2\": null, \"Scorer.2.1\": null, \"R1CS.avg\": null, \"R2CS.1\": null, \"Scorer.1.2\": null, \"R2CS.2\": null, \"Scorer.2.2\": null, \"R2CS.avg\": null, \"TS.1\": 0.64, \"Scorer.1.3\": \"LH\", \"TS.2\": 0.64, \"Scorer.2.3\": \"TT\", \"TS.avg\": 0.64, \"Exc.1\": 0, \"Exc.2\": 0, \"Collection\": 1}, {\"ID\": \"KB34\", \"Age\": 22, \"Gender\": \"Female\", \"Date.P1\": \"1/24/17\", \"Date.P2\": \"1/31/17\", \"Condition\": \"Retrieval\", \"IC.1\": 1, \"IC.2\": 1, \"Comp.1\": 1, \"Comp.2\": 1, \"PR.1\": null, \"PR.2\": 0.8, \"MCS.1\": null, \"Scorer.1\": null, \"MCS.2\": null, \"Scorer.2\": null, \"MCS.avg\": null, \"R1CS.1\": 0.36700000000000005, \"Scorer.1.1\": \"TT\", \"R1CS.2\": 0.38299999999999995, \"Scorer.2.1\": \"LH\", \"R1CS.avg\": 0.375, \"R2CS.1\": 0.5670000000000001, \"Scorer.1.2\": \"TT\", \"R2CS.2\": 0.6, \"Scorer.2.2\": \"LH\", \"R2CS.avg\": 0.584, \"TS.1\": 0.42, \"Scorer.1.3\": \"LH\", \"TS.2\": 0.32, \"Scorer.2.3\": \"TT\", \"TS.avg\": 0.37, \"Exc.1\": 0, \"Exc.2\": 0, \"Collection\": 1}, {\"ID\": \"KB35\", \"Age\": 19, \"Gender\": \"Male\", \"Date.P1\": \"1/24/17\", \"Date.P2\": \"2/2/17\", \"Condition\": \"Retrieval\", \"IC.1\": 1, \"IC.2\": 1, \"Comp.1\": 1, \"Comp.2\": 1, \"PR.1\": null, \"PR.2\": 0.9, \"MCS.1\": null, \"Scorer.1\": null, \"MCS.2\": null, \"Scorer.2\": null, \"MCS.avg\": null, \"R1CS.1\": 0.767, \"Scorer.1.1\": \"TT\", \"R1CS.2\": 0.8, \"Scorer.2.1\": \"LH\", \"R1CS.avg\": 0.784, \"R2CS.1\": 0.867, \"Scorer.1.2\": \"TT\", \"R2CS.2\": 0.9, \"Scorer.2.2\": \"LH\", \"R2CS.avg\": 0.884, \"TS.1\": 1.0, \"Scorer.1.3\": \"LH\", \"TS.2\": 1.0, \"Scorer.2.3\": \"NK\", \"TS.avg\": 1.0, \"Exc.1\": 0, \"Exc.2\": 0, \"Collection\": 1}, {\"ID\": \"KB37\", \"Age\": 20, \"Gender\": \"Male\", \"Date.P1\": \"1/24/17\", \"Date.P2\": \"1/31/17\", \"Condition\": \"Retrieval\", \"IC.1\": 1, \"IC.2\": 1, \"Comp.1\": 1, \"Comp.2\": 1, \"PR.1\": null, \"PR.2\": 0.8, \"MCS.1\": null, \"Scorer.1\": null, \"MCS.2\": null, \"Scorer.2\": null, \"MCS.avg\": null, \"R1CS.1\": 0.4, \"Scorer.1.1\": \"TT\", \"R1CS.2\": 0.5, \"Scorer.2.1\": \"LH\", \"R1CS.avg\": 0.45, \"R2CS.1\": 0.75, \"Scorer.1.2\": \"TT\", \"R2CS.2\": 0.8, \"Scorer.2.2\": \"LH\", \"R2CS.avg\": 0.775, \"TS.1\": 0.44, \"Scorer.1.3\": \"LH\", \"TS.2\": 0.44, \"Scorer.2.3\": \"TT\", \"TS.avg\": 0.44, \"Exc.1\": 0, \"Exc.2\": 0, \"Collection\": 1}, {\"ID\": \"KB38\", \"Age\": 19, \"Gender\": \"Female\", \"Date.P1\": \"1/24/17\", \"Date.P2\": \"1/31/17\", \"Condition\": \"Concept\", \"IC.1\": 1, \"IC.2\": 1, \"Comp.1\": 1, \"Comp.2\": 1, \"PR.1\": 1.0, \"PR.2\": 0.7, \"MCS.1\": 0.7170000000000001, \"Scorer.1\": \"NK\", \"MCS.2\": 0.733, \"Scorer.2\": \"TT\", \"MCS.avg\": 0.725, \"R1CS.1\": null, \"Scorer.1.1\": null, \"R1CS.2\": null, \"Scorer.2.1\": null, \"R1CS.avg\": null, \"R2CS.1\": null, \"Scorer.1.2\": null, \"R2CS.2\": null, \"Scorer.2.2\": null, \"R2CS.avg\": null, \"TS.1\": 0.22, \"Scorer.1.3\": \"LH\", \"TS.2\": 0.18, \"Scorer.2.3\": \"TT\", \"TS.avg\": 0.2, \"Exc.1\": 0, \"Exc.2\": 0, \"Collection\": 1}, {\"ID\": \"KB39\", \"Age\": 19, \"Gender\": \"Female\", \"Date.P1\": \"1/25/17\", \"Date.P2\": \"2/1/17\", \"Condition\": \"Concept\", \"IC.1\": 1, \"IC.2\": 1, \"Comp.1\": 1, \"Comp.2\": 1, \"PR.1\": 0.0, \"PR.2\": 0.7, \"MCS.1\": 0.41700000000000004, \"Scorer.1\": \"NK\", \"MCS.2\": 0.41700000000000004, \"Scorer.2\": \"TT\", \"MCS.avg\": 0.41700000000000004, \"R1CS.1\": null, \"Scorer.1.1\": null, \"R1CS.2\": null, \"Scorer.2.1\": null, \"R1CS.avg\": null, \"R2CS.1\": null, \"Scorer.1.2\": null, \"R2CS.2\": null, \"Scorer.2.2\": null, \"R2CS.avg\": null, \"TS.1\": 0.48, \"Scorer.1.3\": \"LH\", \"TS.2\": 0.5, \"Scorer.2.3\": \"NK\", \"TS.avg\": 0.49, \"Exc.1\": 0, \"Exc.2\": 0, \"Collection\": 1}, {\"ID\": \"KB40\", \"Age\": 20, \"Gender\": \"Female\", \"Date.P1\": \"1/25/17\", \"Date.P2\": \"2/2/17\", \"Condition\": \"Retrieval\", \"IC.1\": 1, \"IC.2\": 1, \"Comp.1\": 1, \"Comp.2\": 1, \"PR.1\": null, \"PR.2\": 0.4, \"MCS.1\": null, \"Scorer.1\": null, \"MCS.2\": null, \"Scorer.2\": null, \"MCS.avg\": null, \"R1CS.1\": 0.36700000000000005, \"Scorer.1.1\": \"TT\", \"R1CS.2\": 0.4, \"Scorer.2.1\": \"LH\", \"R1CS.avg\": 0.384, \"R2CS.1\": 0.65, \"Scorer.1.2\": \"TT\", \"R2CS.2\": 0.7170000000000001, \"Scorer.2.2\": \"LH\", \"R2CS.avg\": 0.6829999999999999, \"TS.1\": 0.66, \"Scorer.1.3\": \"LH\", \"TS.2\": 0.6, \"Scorer.2.3\": \"NK\", \"TS.avg\": 0.63, \"Exc.1\": 0, \"Exc.2\": 0, \"Collection\": 1}, {\"ID\": \"KB41\", \"Age\": 19, \"Gender\": \"Female\", \"Date.P1\": \"1/25/17\", \"Date.P2\": \"2/1/17\", \"Condition\": \"Retrieval\", \"IC.1\": 1, \"IC.2\": 1, \"Comp.1\": 1, \"Comp.2\": 1, \"PR.1\": null, \"PR.2\": 0.6, \"MCS.1\": null, \"Scorer.1\": null, \"MCS.2\": null, \"Scorer.2\": null, \"MCS.avg\": null, \"R1CS.1\": 0.633, \"Scorer.1.1\": \"TT\", \"R1CS.2\": 0.733, \"Scorer.2.1\": \"LH\", \"R1CS.avg\": 0.6829999999999999, \"R2CS.1\": 0.767, \"Scorer.1.2\": \"TT\", \"R2CS.2\": 0.833, \"Scorer.2.2\": \"LH\", \"R2CS.avg\": 0.8, \"TS.1\": 0.66, \"Scorer.1.3\": \"LH\", \"TS.2\": 0.7, \"Scorer.2.3\": \"NK\", \"TS.avg\": 0.68, \"Exc.1\": 0, \"Exc.2\": 0, \"Collection\": 1}, {\"ID\": \"KB42\", \"Age\": 19, \"Gender\": \"Female\", \"Date.P1\": \"1/25/17\", \"Date.P2\": \"2/1/17\", \"Condition\": \"Retrieval\", \"IC.1\": 1, \"IC.2\": 1, \"Comp.1\": 1, \"Comp.2\": 1, \"PR.1\": null, \"PR.2\": 0.4, \"MCS.1\": null, \"Scorer.1\": null, \"MCS.2\": null, \"Scorer.2\": null, \"MCS.avg\": null, \"R1CS.1\": 0.7170000000000001, \"Scorer.1.1\": \"TT\", \"R1CS.2\": 0.6829999999999999, \"Scorer.2.1\": \"LH\", \"R1CS.avg\": 0.7, \"R2CS.1\": 0.7, \"Scorer.1.2\": \"TT\", \"R2CS.2\": 0.7, \"Scorer.2.2\": \"LH\", \"R2CS.avg\": 0.7, \"TS.1\": 0.88, \"Scorer.1.3\": \"LH\", \"TS.2\": 0.8, \"Scorer.2.3\": \"NK\", \"TS.avg\": 0.84, \"Exc.1\": 0, \"Exc.2\": 0, \"Collection\": 1}, {\"ID\": \"KB43\", \"Age\": 18, \"Gender\": \"Female\", \"Date.P1\": \"1/25/17\", \"Date.P2\": \"2/1/17\", \"Condition\": \"Retrieval\", \"IC.1\": 1, \"IC.2\": 1, \"Comp.1\": 1, \"Comp.2\": 1, \"PR.1\": null, \"PR.2\": 0.4, \"MCS.1\": null, \"Scorer.1\": null, \"MCS.2\": null, \"Scorer.2\": null, \"MCS.avg\": null, \"R1CS.1\": 0.45, \"Scorer.1.1\": \"TT\", \"R1CS.2\": 0.467, \"Scorer.2.1\": \"LH\", \"R1CS.avg\": 0.45799999999999996, \"R2CS.1\": 0.7170000000000001, \"Scorer.1.2\": \"TT\", \"R2CS.2\": 0.7170000000000001, \"Scorer.2.2\": \"LH\", \"R2CS.avg\": 0.7170000000000001, \"TS.1\": 0.58, \"Scorer.1.3\": \"LH\", \"TS.2\": 0.54, \"Scorer.2.3\": \"NK\", \"TS.avg\": 0.56, \"Exc.1\": 0, \"Exc.2\": 0, \"Collection\": 1}, {\"ID\": \"KB44\", \"Age\": 20, \"Gender\": \"Male\", \"Date.P1\": \"1/25/17\", \"Date.P2\": \"2/1/17\", \"Condition\": \"Concept\", \"IC.1\": 1, \"IC.2\": 1, \"Comp.1\": 1, \"Comp.2\": 1, \"PR.1\": 0.0, \"PR.2\": 0.5, \"MCS.1\": 0.75, \"Scorer.1\": \"TT\", \"MCS.2\": 0.85, \"Scorer.2\": \"NK\", \"MCS.avg\": 0.8, \"R1CS.1\": null, \"Scorer.1.1\": null, \"R1CS.2\": null, \"Scorer.2.1\": null, \"R1CS.avg\": null, \"R2CS.1\": null, \"Scorer.1.2\": null, \"R2CS.2\": null, \"Scorer.2.2\": null, \"R2CS.avg\": null, \"TS.1\": 0.82, \"Scorer.1.3\": \"LH\", \"TS.2\": 0.76, \"Scorer.2.3\": \"NK\", \"TS.avg\": 0.79, \"Exc.1\": 0, \"Exc.2\": 0, \"Collection\": 1}, {\"ID\": \"KB45\", \"Age\": 19, \"Gender\": \"Female\", \"Date.P1\": \"1/26/17\", \"Date.P2\": \"2/2/17\", \"Condition\": \"Retrieval\", \"IC.1\": 1, \"IC.2\": 1, \"Comp.1\": 1, \"Comp.2\": 1, \"PR.1\": null, \"PR.2\": 0.5, \"MCS.1\": null, \"Scorer.1\": null, \"MCS.2\": null, \"Scorer.2\": null, \"MCS.avg\": null, \"R1CS.1\": 0.66, \"Scorer.1.1\": \"NK\", \"R1CS.2\": 0.8170000000000001, \"Scorer.2.1\": \"LH\", \"R1CS.avg\": 0.738, \"R2CS.1\": 0.8, \"Scorer.1.2\": \"NK\", \"R2CS.2\": 0.85, \"Scorer.2.2\": \"LH\", \"R2CS.avg\": 0.825, \"TS.1\": 0.68, \"Scorer.1.3\": \"LH\", \"TS.2\": 0.68, \"Scorer.2.3\": \"TT\", \"TS.avg\": 0.68, \"Exc.1\": 0, \"Exc.2\": 0, \"Collection\": 1}]}}, {\"mode\": \"vega-lite\"});\n",
              "</script>"
            ]
          },
          "metadata": {},
          "execution_count": 8
        }
      ]
    },
    {
      "cell_type": "code",
      "source": [
        "df_learning.groupby('Condition')['PR.2'].plot.density(title='Distribution of PR.2 ratings by condition',legend=True)"
      ],
      "metadata": {
        "colab": {
          "base_uri": "https://localhost:8080/",
          "height": 350
        },
        "id": "H_Q913_MqKfu",
        "outputId": "210b7f1d-dd88-4362-9b6b-0f5b53ab42d7"
      },
      "execution_count": null,
      "outputs": [
        {
          "output_type": "execute_result",
          "data": {
            "text/plain": [
              "Condition\n",
              "Concept      AxesSubplot(0.125,0.125;0.775x0.755)\n",
              "Retrieval    AxesSubplot(0.125,0.125;0.775x0.755)\n",
              "Name: PR.2, dtype: object"
            ]
          },
          "metadata": {},
          "execution_count": 10
        },
        {
          "output_type": "display_data",
          "data": {
            "image/png": "[encoded data removed]",
            "text/plain": [
              "<Figure size 432x288 with 1 Axes>"
            ]
          },
          "metadata": {
            "needs_background": "light"
          }
        }
      ]
    },
    {
      "cell_type": "markdown",
      "metadata": {
        "id": "P6gqpWXLOIcg"
      },
      "source": [
        "The subjects who made concept maps tended to score higher on average in the PR.2 variable, as evidenced by the median and distribution. This meant that those who created concept maps felt more confident about how they would perform on the test."
      ]
    },
    {
      "cell_type": "markdown",
      "metadata": {
        "id": "FiFkblz8OIch"
      },
      "source": [
        "# Question 2\n",
        "\n",
        "Which group actually did better on the follow-up learning test one week later? Make an appropriate visualization and explain what you see.\n",
        "\n",
        "_Hint:_ Don't ask which variable you should use. That is for you to figure out. Read the codebook carefully (consulting the [original paper](http://science.sciencemag.org/content/331/6018/772), if necessary), make an informed decision, and explain your choice."
      ]
    },
    {
      "cell_type": "code",
      "metadata": {
        "id": "Th_st4KzOIci",
        "colab": {
          "base_uri": "https://localhost:8080/",
          "height": 109
        },
        "outputId": "1fcbd5e0-c47d-46b6-f2bf-8e3983c042c6"
      },
      "source": [
        "Chart(df_learning).mark_boxplot(extent=\"min-max\").encode(\n",
        "    x = \"TS.avg\",\n",
        "    y = \"Condition\"\n",
        ")"
      ],
      "execution_count": null,
      "outputs": [
        {
          "output_type": "execute_result",
          "data": {
            "text/plain": [
              "alt.Chart(...)"
            ],
            "text/html": [
              "\n",
              "<div id=\"altair-viz-b49c410b057847189851f71a11746772\"></div>\n",
              "<script type=\"text/javascript\">\n",
              "  var VEGA_DEBUG = (typeof VEGA_DEBUG == \"undefined\") ? {} : VEGA_DEBUG;\n",
              "  (function(spec, embedOpt){\n",
              "    let outputDiv = document.currentScript.previousElementSibling;\n",
              "    if (outputDiv.id !== \"altair-viz-b49c410b057847189851f71a11746772\") {\n",
              "      outputDiv = document.getElementById(\"altair-viz-b49c410b057847189851f71a11746772\");\n",
              "    }\n",
              "    const paths = {\n",
              "      \"vega\": \"https://cdn.jsdelivr.net/npm//vega@5?noext\",\n",
              "      \"vega-lib\": \"https://cdn.jsdelivr.net/npm//vega-lib?noext\",\n",
              "      \"vega-lite\": \"https://cdn.jsdelivr.net/npm//vega-lite@4.17.0?noext\",\n",
              "      \"vega-embed\": \"https://cdn.jsdelivr.net/npm//vega-embed@6?noext\",\n",
              "    };\n",
              "\n",
              "    function maybeLoadScript(lib, version) {\n",
              "      var key = `${lib.replace(\"-\", \"\")}_version`;\n",
              "      return (VEGA_DEBUG[key] == version) ?\n",
              "        Promise.resolve(paths[lib]) :\n",
              "        new Promise(function(resolve, reject) {\n",
              "          var s = document.createElement('script');\n",
              "          document.getElementsByTagName(\"head\")[0].appendChild(s);\n",
              "          s.async = true;\n",
              "          s.onload = () => {\n",
              "            VEGA_DEBUG[key] = version;\n",
              "            return resolve(paths[lib]);\n",
              "          };\n",
              "          s.onerror = () => reject(`Error loading script: ${paths[lib]}`);\n",
              "          s.src = paths[lib];\n",
              "        });\n",
              "    }\n",
              "\n",
              "    function showError(err) {\n",
              "      outputDiv.innerHTML = `<div class=\"error\" style=\"color:red;\">${err}</div>`;\n",
              "      throw err;\n",
              "    }\n",
              "\n",
              "    function displayChart(vegaEmbed) {\n",
              "      vegaEmbed(outputDiv, spec, embedOpt)\n",
              "        .catch(err => showError(`Javascript Error: ${err.message}<br>This usually means there's a typo in your chart specification. See the javascript console for the full traceback.`));\n",
              "    }\n",
              "\n",
              "    if(typeof define === \"function\" && define.amd) {\n",
              "      requirejs.config({paths});\n",
              "      require([\"vega-embed\"], displayChart, err => showError(`Error loading script: ${err.message}`));\n",
              "    } else {\n",
              "      maybeLoadScript(\"vega\", \"5\")\n",
              "        .then(() => maybeLoadScript(\"vega-lite\", \"4.17.0\"))\n",
              "        .then(() => maybeLoadScript(\"vega-embed\", \"6\"))\n",
              "        .catch(showError)\n",
              "        .then(() => displayChart(vegaEmbed));\n",
              "    }\n",
              "  })({\"config\": {\"view\": {\"continuousWidth\": 400, \"continuousHeight\": 300}}, \"data\": {\"name\": \"data-b97b4773ab608bcfaf6c1c57c319138d\"}, \"mark\": {\"type\": \"boxplot\", \"extent\": \"min-max\"}, \"encoding\": {\"x\": {\"field\": \"TS.avg\", \"type\": \"quantitative\"}, \"y\": {\"field\": \"Condition\", \"type\": \"nominal\"}}, \"$schema\": \"https://vega.github.io/schema/vega-lite/v4.17.0.json\", \"datasets\": {\"data-b97b4773ab608bcfaf6c1c57c319138d\": [{\"ID\": \"KB1\", \"Age\": 18, \"Gender\": \"Female\", \"Date.P1\": \"11/21/16\", \"Date.P2\": \"11/28/16\", \"Condition\": \"Concept\", \"IC.1\": 1, \"IC.2\": 1, \"Comp.1\": 1, \"Comp.2\": 1, \"PR.1\": 1.0, \"PR.2\": 0.8, \"MCS.1\": 0.75, \"Scorer.1\": \"NK\", \"MCS.2\": 0.67, \"Scorer.2\": \"TT\", \"MCS.avg\": 0.71, \"R1CS.1\": null, \"Scorer.1.1\": null, \"R1CS.2\": null, \"Scorer.2.1\": null, \"R1CS.avg\": null, \"R2CS.1\": null, \"Scorer.1.2\": null, \"R2CS.2\": null, \"Scorer.2.2\": null, \"R2CS.avg\": null, \"TS.1\": 0.36, \"Scorer.1.3\": \"NK\", \"TS.2\": 0.42, \"Scorer.2.3\": \"MS\", \"TS.avg\": 0.39, \"Exc.1\": 0, \"Exc.2\": 0, \"Collection\": 1}, {\"ID\": \"KB2\", \"Age\": 18, \"Gender\": \"Male\", \"Date.P1\": \"11/21/16\", \"Date.P2\": \"11/28/16\", \"Condition\": \"Concept\", \"IC.1\": 1, \"IC.2\": 1, \"Comp.1\": 1, \"Comp.2\": 1, \"PR.1\": 0.0, \"PR.2\": 0.7, \"MCS.1\": 0.4, \"Scorer.1\": \"NK\", \"MCS.2\": 0.36700000000000005, \"Scorer.2\": \"TT\", \"MCS.avg\": 0.3835, \"R1CS.1\": null, \"Scorer.1.1\": null, \"R1CS.2\": null, \"Scorer.2.1\": null, \"R1CS.avg\": null, \"R2CS.1\": null, \"Scorer.1.2\": null, \"R2CS.2\": null, \"Scorer.2.2\": null, \"R2CS.avg\": null, \"TS.1\": 0.48, \"Scorer.1.3\": \"MS\", \"TS.2\": 0.36, \"Scorer.2.3\": \"NK\", \"TS.avg\": 0.42, \"Exc.1\": 0, \"Exc.2\": 0, \"Collection\": 1}, {\"ID\": \"KB3\", \"Age\": 18, \"Gender\": \"Male\", \"Date.P1\": \"11/21/16\", \"Date.P2\": \"11/28/16\", \"Condition\": \"Concept\", \"IC.1\": 1, \"IC.2\": 1, \"Comp.1\": 1, \"Comp.2\": 1, \"PR.1\": 0.0, \"PR.2\": 0.7, \"MCS.1\": 0.433, \"Scorer.1\": \"NK\", \"MCS.2\": 0.55, \"Scorer.2\": \"MS\", \"MCS.avg\": 0.4915, \"R1CS.1\": null, \"Scorer.1.1\": null, \"R1CS.2\": null, \"Scorer.2.1\": null, \"R1CS.avg\": null, \"R2CS.1\": null, \"Scorer.1.2\": null, \"R2CS.2\": null, \"Scorer.2.2\": null, \"R2CS.avg\": null, \"TS.1\": 0.08, \"Scorer.1.3\": \"NK\", \"TS.2\": 0.08, \"Scorer.2.3\": \"MS\", \"TS.avg\": 0.08, \"Exc.1\": 0, \"Exc.2\": 0, \"Collection\": 1}, {\"ID\": \"KB4\", \"Age\": 19, \"Gender\": \"Female\", \"Date.P1\": \"11/21/16\", \"Date.P2\": \"11/28/16\", \"Condition\": \"Concept\", \"IC.1\": 1, \"IC.2\": 1, \"Comp.1\": 1, \"Comp.2\": 1, \"PR.1\": 0.0, \"PR.2\": 0.7, \"MCS.1\": 0.317, \"Scorer.1\": \"NK\", \"MCS.2\": 0.33299999999999996, \"Scorer.2\": \"MS\", \"MCS.avg\": 0.325, \"R1CS.1\": null, \"Scorer.1.1\": null, \"R1CS.2\": null, \"Scorer.2.1\": null, \"R1CS.avg\": null, \"R2CS.1\": null, \"Scorer.1.2\": null, \"R2CS.2\": null, \"Scorer.2.2\": null, \"R2CS.avg\": null, \"TS.1\": 0.44, \"Scorer.1.3\": \"MS\", \"TS.2\": 0.42, \"Scorer.2.3\": \"NK\", \"TS.avg\": 0.43, \"Exc.1\": 0, \"Exc.2\": 0, \"Collection\": 1}, {\"ID\": \"KB5\", \"Age\": 19, \"Gender\": \"Female\", \"Date.P1\": \"11/22/16\", \"Date.P2\": \"11/29/16\", \"Condition\": \"Concept\", \"IC.1\": 1, \"IC.2\": 1, \"Comp.1\": 1, \"Comp.2\": 1, \"PR.1\": 0.0, \"PR.2\": 0.95, \"MCS.1\": 0.6829999999999999, \"Scorer.1\": \"NK\", \"MCS.2\": 0.7170000000000001, \"Scorer.2\": \"MS\", \"MCS.avg\": 0.7, \"R1CS.1\": null, \"Scorer.1.1\": null, \"R1CS.2\": null, \"Scorer.2.1\": null, \"R1CS.avg\": null, \"R2CS.1\": null, \"Scorer.1.2\": null, \"R2CS.2\": null, \"Scorer.2.2\": null, \"R2CS.avg\": null, \"TS.1\": 0.26, \"Scorer.1.3\": \"NK\", \"TS.2\": 0.28, \"Scorer.2.3\": \"MS\", \"TS.avg\": 0.27, \"Exc.1\": 0, \"Exc.2\": 0, \"Collection\": 1}, {\"ID\": \"KB6\", \"Age\": 19, \"Gender\": \"Male\", \"Date.P1\": \"11/22/16\", \"Date.P2\": \"11/29/16\", \"Condition\": \"Concept\", \"IC.1\": 1, \"IC.2\": 1, \"Comp.1\": 1, \"Comp.2\": 1, \"PR.1\": 1.0, \"PR.2\": 0.6, \"MCS.1\": 0.8170000000000001, \"Scorer.1\": \"NK\", \"MCS.2\": 0.7829999999999999, \"Scorer.2\": \"MS\", \"MCS.avg\": 0.8, \"R1CS.1\": null, \"Scorer.1.1\": null, \"R1CS.2\": null, \"Scorer.2.1\": null, \"R1CS.avg\": null, \"R2CS.1\": null, \"Scorer.1.2\": null, \"R2CS.2\": null, \"Scorer.2.2\": null, \"R2CS.avg\": null, \"TS.1\": 0.4, \"Scorer.1.3\": \"NK\", \"TS.2\": 0.46, \"Scorer.2.3\": \"MS\", \"TS.avg\": 0.43, \"Exc.1\": 0, \"Exc.2\": 0, \"Collection\": 1}, {\"ID\": \"KB7\", \"Age\": 18, \"Gender\": \"Male\", \"Date.P1\": \"11/22/16\", \"Date.P2\": \"12/6/16\", \"Condition\": \"Concept\", \"IC.1\": 1, \"IC.2\": 1, \"Comp.1\": 1, \"Comp.2\": 1, \"PR.1\": 1.0, \"PR.2\": 0.6, \"MCS.1\": 0.733, \"Scorer.1\": \"NK\", \"MCS.2\": 0.767, \"Scorer.2\": \"MS\", \"MCS.avg\": 0.75, \"R1CS.1\": null, \"Scorer.1.1\": null, \"R1CS.2\": null, \"Scorer.2.1\": null, \"R1CS.avg\": null, \"R2CS.1\": null, \"Scorer.1.2\": null, \"R2CS.2\": null, \"Scorer.2.2\": null, \"R2CS.avg\": null, \"TS.1\": 0.38, \"Scorer.1.3\": \"MS\", \"TS.2\": 0.36, \"Scorer.2.3\": \"CB\", \"TS.avg\": 0.37, \"Exc.1\": 0, \"Exc.2\": 0, \"Collection\": 1}, {\"ID\": \"KB8\", \"Age\": 20, \"Gender\": \"Male\", \"Date.P1\": \"11/22/16\", \"Date.P2\": \"11/29/16\", \"Condition\": \"Concept\", \"IC.1\": 1, \"IC.2\": 1, \"Comp.1\": 1, \"Comp.2\": 1, \"PR.1\": 1.0, \"PR.2\": 0.5, \"MCS.1\": 0.35, \"Scorer.1\": \"NK\", \"MCS.2\": 0.33299999999999996, \"Scorer.2\": \"MS\", \"MCS.avg\": 0.3415, \"R1CS.1\": null, \"Scorer.1.1\": null, \"R1CS.2\": null, \"Scorer.2.1\": null, \"R1CS.avg\": null, \"R2CS.1\": null, \"Scorer.1.2\": null, \"R2CS.2\": null, \"Scorer.2.2\": null, \"R2CS.avg\": null, \"TS.1\": 0.44, \"Scorer.1.3\": \"NK\", \"TS.2\": 0.46, \"Scorer.2.3\": \"MS\", \"TS.avg\": 0.45, \"Exc.1\": 0, \"Exc.2\": 0, \"Collection\": 1}, {\"ID\": \"KB9\", \"Age\": 20, \"Gender\": \"Male\", \"Date.P1\": \"11/22/16\", \"Date.P2\": \"11/28/16\", \"Condition\": \"Concept\", \"IC.1\": 1, \"IC.2\": 1, \"Comp.1\": 1, \"Comp.2\": 1, \"PR.1\": 0.0, \"PR.2\": 0.6, \"MCS.1\": 0.65, \"Scorer.1\": \"NK\", \"MCS.2\": 0.65, \"Scorer.2\": \"MS\", \"MCS.avg\": 0.65, \"R1CS.1\": null, \"Scorer.1.1\": null, \"R1CS.2\": null, \"Scorer.2.1\": null, \"R1CS.avg\": null, \"R2CS.1\": null, \"Scorer.1.2\": null, \"R2CS.2\": null, \"Scorer.2.2\": null, \"R2CS.avg\": null, \"TS.1\": 0.64, \"Scorer.1.3\": \"MS\", \"TS.2\": 0.58, \"Scorer.2.3\": \"NK\", \"TS.avg\": 0.61, \"Exc.1\": 0, \"Exc.2\": 0, \"Collection\": 1}, {\"ID\": \"KB10\", \"Age\": 20, \"Gender\": \"Female\", \"Date.P1\": \"11/29/16\", \"Date.P2\": \"12/6/16\", \"Condition\": \"Concept\", \"IC.1\": 1, \"IC.2\": 1, \"Comp.1\": 1, \"Comp.2\": 1, \"PR.1\": 1.0, \"PR.2\": 0.9, \"MCS.1\": 0.8170000000000001, \"Scorer.1\": \"NK\", \"MCS.2\": 0.7829999999999999, \"Scorer.2\": \"MS\", \"MCS.avg\": 0.8, \"R1CS.1\": null, \"Scorer.1.1\": null, \"R1CS.2\": null, \"Scorer.2.1\": null, \"R1CS.avg\": null, \"R2CS.1\": null, \"Scorer.1.2\": null, \"R2CS.2\": null, \"Scorer.2.2\": null, \"R2CS.avg\": null, \"TS.1\": 0.66, \"Scorer.1.3\": \"NK\", \"TS.2\": 0.7, \"Scorer.2.3\": \"MS\", \"TS.avg\": 0.68, \"Exc.1\": 0, \"Exc.2\": 0, \"Collection\": 1}, {\"ID\": \"KB11\", \"Age\": 21, \"Gender\": \"Female\", \"Date.P1\": \"11/21/16\", \"Date.P2\": \"11/28/16\", \"Condition\": \"Retrieval\", \"IC.1\": 1, \"IC.2\": 1, \"Comp.1\": 1, \"Comp.2\": 1, \"PR.1\": null, \"PR.2\": 0.4, \"MCS.1\": null, \"Scorer.1\": null, \"MCS.2\": null, \"Scorer.2\": null, \"MCS.avg\": null, \"R1CS.1\": 0.6, \"Scorer.1.1\": \"NK\", \"R1CS.2\": 0.6, \"Scorer.2.1\": \"TT\", \"R1CS.avg\": 0.6, \"R2CS.1\": 0.76, \"Scorer.1.2\": \"NK\", \"R2CS.2\": 0.7829999999999999, \"Scorer.2.2\": \"TT\", \"R2CS.avg\": 0.772, \"TS.1\": 0.38, \"Scorer.1.3\": \"MS\", \"TS.2\": 0.3, \"Scorer.2.3\": \"NK\", \"TS.avg\": 0.34, \"Exc.1\": 0, \"Exc.2\": 0, \"Collection\": 1}, {\"ID\": \"KB12\", \"Age\": 18, \"Gender\": \"Female\", \"Date.P1\": \"11/21/16\", \"Date.P2\": \"11/29/16\", \"Condition\": \"Retrieval\", \"IC.1\": 1, \"IC.2\": 1, \"Comp.1\": 1, \"Comp.2\": 1, \"PR.1\": null, \"PR.2\": 0.6, \"MCS.1\": null, \"Scorer.1\": null, \"MCS.2\": null, \"Scorer.2\": null, \"MCS.avg\": null, \"R1CS.1\": 0.81, \"Scorer.1.1\": \"NK\", \"R1CS.2\": 0.85, \"Scorer.2.1\": \"TT\", \"R1CS.avg\": 0.83, \"R2CS.1\": 0.93, \"Scorer.1.2\": \"NK\", \"R2CS.2\": 0.9329999999999999, \"Scorer.2.2\": \"TT\", \"R2CS.avg\": 0.932, \"TS.1\": 0.76, \"Scorer.1.3\": \"NK\", \"TS.2\": 0.82, \"Scorer.2.3\": \"MS\", \"TS.avg\": 0.79, \"Exc.1\": 0, \"Exc.2\": 0, \"Collection\": 1}, {\"ID\": \"KB13\", \"Age\": 20, \"Gender\": \"Female\", \"Date.P1\": \"11/21/16\", \"Date.P2\": \"11/28/16\", \"Condition\": \"Retrieval\", \"IC.1\": 1, \"IC.2\": 1, \"Comp.1\": 1, \"Comp.2\": 1, \"PR.1\": null, \"PR.2\": 0.9, \"MCS.1\": null, \"Scorer.1\": null, \"MCS.2\": null, \"Scorer.2\": null, \"MCS.avg\": null, \"R1CS.1\": 0.63, \"Scorer.1.1\": \"NK\", \"R1CS.2\": 0.617, \"Scorer.2.1\": \"TT\", \"R1CS.avg\": 0.624, \"R2CS.1\": 0.76, \"Scorer.1.2\": \"NK\", \"R2CS.2\": 0.8, \"Scorer.2.2\": \"TT\", \"R2CS.avg\": 0.78, \"TS.1\": 0.8, \"Scorer.1.3\": \"MS\", \"TS.2\": 0.8, \"Scorer.2.3\": \"NK\", \"TS.avg\": 0.8, \"Exc.1\": 0, \"Exc.2\": 0, \"Collection\": 1}, {\"ID\": \"KB14\", \"Age\": 19, \"Gender\": \"Female\", \"Date.P1\": \"11/21/16\", \"Date.P2\": \"11/28/16\", \"Condition\": \"Retrieval\", \"IC.1\": 1, \"IC.2\": 1, \"Comp.1\": 1, \"Comp.2\": 1, \"PR.1\": null, \"PR.2\": 0.7, \"MCS.1\": null, \"Scorer.1\": null, \"MCS.2\": null, \"Scorer.2\": null, \"MCS.avg\": null, \"R1CS.1\": 0.56, \"Scorer.1.1\": \"NK\", \"R1CS.2\": 0.5670000000000001, \"Scorer.2.1\": \"TT\", \"R1CS.avg\": 0.564, \"R2CS.1\": 0.18, \"Scorer.1.2\": \"NK\", \"R2CS.2\": 0.16699999999999998, \"Scorer.2.2\": \"TT\", \"R2CS.avg\": 0.174, \"TS.1\": 0.48, \"Scorer.1.3\": \"MS\", \"TS.2\": 0.4, \"Scorer.2.3\": \"NK\", \"TS.avg\": 0.44, \"Exc.1\": 0, \"Exc.2\": 0, \"Collection\": 1}, {\"ID\": \"KB15\", \"Age\": 18, \"Gender\": \"Female\", \"Date.P1\": \"11/22/16\", \"Date.P2\": \"11/29/16\", \"Condition\": \"Retrieval\", \"IC.1\": 1, \"IC.2\": 1, \"Comp.1\": 1, \"Comp.2\": 1, \"PR.1\": null, \"PR.2\": 0.3, \"MCS.1\": null, \"Scorer.1\": null, \"MCS.2\": null, \"Scorer.2\": null, \"MCS.avg\": null, \"R1CS.1\": 0.4, \"Scorer.1.1\": \"TT\", \"R1CS.2\": 0.35, \"Scorer.2.1\": \"LH\", \"R1CS.avg\": 0.375, \"R2CS.1\": 0.483, \"Scorer.1.2\": \"TT\", \"R2CS.2\": 0.55, \"Scorer.2.2\": \"LH\", \"R2CS.avg\": 0.517, \"TS.1\": 0.34, \"Scorer.1.3\": \"MS\", \"TS.2\": 0.34, \"Scorer.2.3\": \"CB\", \"TS.avg\": 0.34, \"Exc.1\": 0, \"Exc.2\": 0, \"Collection\": 1}, {\"ID\": \"KB16\", \"Age\": 19, \"Gender\": \"Male\", \"Date.P1\": \"11/22/16\", \"Date.P2\": \"11/29/16\", \"Condition\": \"Retrieval\", \"IC.1\": 1, \"IC.2\": 1, \"Comp.1\": 1, \"Comp.2\": 1, \"PR.1\": null, \"PR.2\": 0.4, \"MCS.1\": null, \"Scorer.1\": null, \"MCS.2\": null, \"Scorer.2\": null, \"MCS.avg\": null, \"R1CS.1\": 0.5, \"Scorer.1.1\": \"TT\", \"R1CS.2\": 0.55, \"Scorer.2.1\": \"LH\", \"R1CS.avg\": 0.525, \"R2CS.1\": 0.8, \"Scorer.1.2\": \"TT\", \"R2CS.2\": 0.83, \"Scorer.2.2\": \"LH\", \"R2CS.avg\": 0.82, \"TS.1\": 0.6, \"Scorer.1.3\": \"NK\", \"TS.2\": 0.6, \"Scorer.2.3\": \"MS\", \"TS.avg\": 0.6, \"Exc.1\": 0, \"Exc.2\": 0, \"Collection\": 1}, {\"ID\": \"KB18\", \"Age\": 20, \"Gender\": \"Male\", \"Date.P1\": \"11/22/16\", \"Date.P2\": \"11/29/16\", \"Condition\": \"Retrieval\", \"IC.1\": 1, \"IC.2\": 1, \"Comp.1\": 1, \"Comp.2\": 1, \"PR.1\": null, \"PR.2\": 0.7, \"MCS.1\": null, \"Scorer.1\": null, \"MCS.2\": null, \"Scorer.2\": null, \"MCS.avg\": null, \"R1CS.1\": 0.7, \"Scorer.1.1\": \"TT\", \"R1CS.2\": 0.67, \"Scorer.2.1\": \"LH\", \"R1CS.avg\": 0.685, \"R2CS.1\": 0.8, \"Scorer.1.2\": \"TT\", \"R2CS.2\": 0.883, \"Scorer.2.2\": \"LH\", \"R2CS.avg\": 0.8420000000000001, \"TS.1\": 0.6, \"Scorer.1.3\": \"MS\", \"TS.2\": 0.64, \"Scorer.2.3\": \"CB\", \"TS.avg\": 0.62, \"Exc.1\": 0, \"Exc.2\": 0, \"Collection\": 1}, {\"ID\": \"KB19\", \"Age\": 21, \"Gender\": \"Female\", \"Date.P1\": \"11/29/16\", \"Date.P2\": \"12/6/16\", \"Condition\": \"Retrieval\", \"IC.1\": 1, \"IC.2\": 1, \"Comp.1\": 1, \"Comp.2\": 1, \"PR.1\": null, \"PR.2\": 0.4, \"MCS.1\": null, \"Scorer.1\": null, \"MCS.2\": null, \"Scorer.2\": null, \"MCS.avg\": null, \"R1CS.1\": 0.57, \"Scorer.1.1\": \"LH\", \"R1CS.2\": 0.65, \"Scorer.2.1\": \"TT\", \"R1CS.avg\": 0.61, \"R2CS.1\": 0.73, \"Scorer.1.2\": \"LH\", \"R2CS.2\": 0.8170000000000001, \"Scorer.2.2\": \"TT\", \"R2CS.avg\": 0.774, \"TS.1\": 0.72, \"Scorer.1.3\": \"NK\", \"TS.2\": 0.74, \"Scorer.2.3\": \"MS\", \"TS.avg\": 0.73, \"Exc.1\": 0, \"Exc.2\": 0, \"Collection\": 1}, {\"ID\": \"KB20\", \"Age\": 17, \"Gender\": \"Male\", \"Date.P1\": \"11/29/16\", \"Date.P2\": \"12/6/16\", \"Condition\": \"Retrieval\", \"IC.1\": 1, \"IC.2\": 1, \"Comp.1\": 1, \"Comp.2\": 1, \"PR.1\": null, \"PR.2\": 0.6, \"MCS.1\": null, \"Scorer.1\": null, \"MCS.2\": null, \"Scorer.2\": null, \"MCS.avg\": null, \"R1CS.1\": 0.583, \"Scorer.1.1\": \"LH\", \"R1CS.2\": 0.633, \"Scorer.2.1\": \"TT\", \"R1CS.avg\": 0.61, \"R2CS.1\": 0.733, \"Scorer.1.2\": \"LH\", \"R2CS.2\": 0.767, \"Scorer.2.2\": \"TT\", \"R2CS.avg\": 0.75, \"TS.1\": 0.62, \"Scorer.1.3\": \"NK\", \"TS.2\": 0.62, \"Scorer.2.3\": \"CB\", \"TS.avg\": 0.62, \"Exc.1\": 0, \"Exc.2\": 0, \"Collection\": 1}, {\"ID\": \"KB21\", \"Age\": 20, \"Gender\": \"Male\", \"Date.P1\": \"11/29/16\", \"Date.P2\": \"12/6/16\", \"Condition\": \"Concept\", \"IC.1\": 1, \"IC.2\": 1, \"Comp.1\": 1, \"Comp.2\": 1, \"PR.1\": 0.0, \"PR.2\": 0.8, \"MCS.1\": 0.55, \"Scorer.1\": \"NK\", \"MCS.2\": 0.583, \"Scorer.2\": \"CB\", \"MCS.avg\": 0.5670000000000001, \"R1CS.1\": null, \"Scorer.1.1\": null, \"R1CS.2\": null, \"Scorer.2.1\": null, \"R1CS.avg\": null, \"R2CS.1\": null, \"Scorer.1.2\": null, \"R2CS.2\": null, \"Scorer.2.2\": null, \"R2CS.avg\": null, \"TS.1\": 0.56, \"Scorer.1.3\": \"MS\", \"TS.2\": 0.6, \"Scorer.2.3\": \"CB\", \"TS.avg\": 0.58, \"Exc.1\": 0, \"Exc.2\": 0, \"Collection\": 1}, {\"ID\": \"KB22\", \"Age\": 18, \"Gender\": \"Male\", \"Date.P1\": \"11/29/16\", \"Date.P2\": \"12/6/16\", \"Condition\": \"Concept\", \"IC.1\": 1, \"IC.2\": 1, \"Comp.1\": 1, \"Comp.2\": 1, \"PR.1\": 0.0, \"PR.2\": 0.6, \"MCS.1\": 0.41700000000000004, \"Scorer.1\": \"NK\", \"MCS.2\": 0.433, \"Scorer.2\": \"CB\", \"MCS.avg\": 0.425, \"R1CS.1\": null, \"Scorer.1.1\": null, \"R1CS.2\": null, \"Scorer.2.1\": null, \"R1CS.avg\": null, \"R2CS.1\": null, \"Scorer.1.2\": null, \"R2CS.2\": null, \"Scorer.2.2\": null, \"R2CS.avg\": null, \"TS.1\": 0.18, \"Scorer.1.3\": \"NK\", \"TS.2\": 0.2, \"Scorer.2.3\": \"MS\", \"TS.avg\": 0.19, \"Exc.1\": 0, \"Exc.2\": 0, \"Collection\": 1}, {\"ID\": \"KB23\", \"Age\": 21, \"Gender\": \"Male\", \"Date.P1\": \"11/29/16\", \"Date.P2\": \"12/6/16\", \"Condition\": \"Concept\", \"IC.1\": 1, \"IC.2\": 1, \"Comp.1\": 1, \"Comp.2\": 1, \"PR.1\": 0.0, \"PR.2\": 0.9, \"MCS.1\": 0.56, \"Scorer.1\": \"MS\", \"MCS.2\": 0.45, \"Scorer.2\": \"CB\", \"MCS.avg\": 0.505, \"R1CS.1\": null, \"Scorer.1.1\": null, \"R1CS.2\": null, \"Scorer.2.1\": null, \"R1CS.avg\": null, \"R2CS.1\": null, \"Scorer.1.2\": null, \"R2CS.2\": null, \"Scorer.2.2\": null, \"R2CS.avg\": null, \"TS.1\": 0.68, \"Scorer.1.3\": \"MS\", \"TS.2\": 0.68, \"Scorer.2.3\": \"CB\", \"TS.avg\": 0.68, \"Exc.1\": 0, \"Exc.2\": 0, \"Collection\": 1}, {\"ID\": \"KB24\", \"Age\": 18, \"Gender\": \"Male\", \"Date.P1\": \"11/29/16\", \"Date.P2\": \"12/6/16\", \"Condition\": \"Concept\", \"IC.1\": 1, \"IC.2\": 1, \"Comp.1\": 1, \"Comp.2\": 1, \"PR.1\": 1.0, \"PR.2\": 0.9, \"MCS.1\": 0.917, \"Scorer.1\": \"MS\", \"MCS.2\": 0.8, \"Scorer.2\": \"NK\", \"MCS.avg\": 0.8590000000000001, \"R1CS.1\": null, \"Scorer.1.1\": null, \"R1CS.2\": null, \"Scorer.2.1\": null, \"R1CS.avg\": null, \"R2CS.1\": null, \"Scorer.1.2\": null, \"R2CS.2\": null, \"Scorer.2.2\": null, \"R2CS.avg\": null, \"TS.1\": 0.54, \"Scorer.1.3\": \"NK\", \"TS.2\": 0.52, \"Scorer.2.3\": \"MS\", \"TS.avg\": 0.53, \"Exc.1\": 0, \"Exc.2\": 0, \"Collection\": 1}, {\"ID\": \"KB25\", \"Age\": 19, \"Gender\": \"Male\", \"Date.P1\": \"11/29/16\", \"Date.P2\": \"12/6/16\", \"Condition\": \"Concept\", \"IC.1\": 1, \"IC.2\": 1, \"Comp.1\": 1, \"Comp.2\": 1, \"PR.1\": 1.0, \"PR.2\": 0.6, \"MCS.1\": 0.6829999999999999, \"Scorer.1\": \"MS\", \"MCS.2\": 0.667, \"Scorer.2\": \"NK\", \"MCS.avg\": 0.675, \"R1CS.1\": null, \"Scorer.1.1\": null, \"R1CS.2\": null, \"Scorer.2.1\": null, \"R1CS.avg\": null, \"R2CS.1\": null, \"Scorer.1.2\": null, \"R2CS.2\": null, \"Scorer.2.2\": null, \"R2CS.avg\": null, \"TS.1\": 0.56, \"Scorer.1.3\": \"NK\", \"TS.2\": 0.62, \"Scorer.2.3\": \"MS\", \"TS.avg\": 0.59, \"Exc.1\": 0, \"Exc.2\": 0, \"Collection\": 1}, {\"ID\": \"KB26\", \"Age\": 18, \"Gender\": \"Female\", \"Date.P1\": \"11/29/16\", \"Date.P2\": \"12/6/16\", \"Condition\": \"Concept\", \"IC.1\": 1, \"IC.2\": 1, \"Comp.1\": 1, \"Comp.2\": 1, \"PR.1\": 1.0, \"PR.2\": 0.7, \"MCS.1\": 0.667, \"Scorer.1\": \"TT\", \"MCS.2\": 0.65, \"Scorer.2\": \"NK\", \"MCS.avg\": 0.659, \"R1CS.1\": null, \"Scorer.1.1\": null, \"R1CS.2\": null, \"Scorer.2.1\": null, \"R1CS.avg\": null, \"R2CS.1\": null, \"Scorer.1.2\": null, \"R2CS.2\": null, \"Scorer.2.2\": null, \"R2CS.avg\": null, \"TS.1\": 0.3, \"Scorer.1.3\": \"MS\", \"TS.2\": 0.3, \"Scorer.2.3\": \"CB\", \"TS.avg\": 0.3, \"Exc.1\": 0, \"Exc.2\": 0, \"Collection\": 1}, {\"ID\": \"KB27\", \"Age\": 18, \"Gender\": \"Male\", \"Date.P1\": \"11/29/16\", \"Date.P2\": \"12/6/16\", \"Condition\": \"Concept\", \"IC.1\": 1, \"IC.2\": 1, \"Comp.1\": 1, \"Comp.2\": 1, \"PR.1\": 1.0, \"PR.2\": 0.7, \"MCS.1\": 0.5, \"Scorer.1\": \"NK\", \"MCS.2\": 0.5, \"Scorer.2\": \"MS\", \"MCS.avg\": 0.5, \"R1CS.1\": null, \"Scorer.1.1\": null, \"R1CS.2\": null, \"Scorer.2.1\": null, \"R1CS.avg\": null, \"R2CS.1\": null, \"Scorer.1.2\": null, \"R2CS.2\": null, \"Scorer.2.2\": null, \"R2CS.avg\": null, \"TS.1\": 0.52, \"Scorer.1.3\": \"MS\", \"TS.2\": 0.52, \"Scorer.2.3\": \"CB\", \"TS.avg\": 0.52, \"Exc.1\": 0, \"Exc.2\": 0, \"Collection\": 1}, {\"ID\": \"KB28\", \"Age\": 18, \"Gender\": \"Male\", \"Date.P1\": \"11/29/16\", \"Date.P2\": \"12/2/16\", \"Condition\": \"Concept\", \"IC.1\": 1, \"IC.2\": 1, \"Comp.1\": 1, \"Comp.2\": 1, \"PR.1\": 1.0, \"PR.2\": 0.5, \"MCS.1\": 0.55, \"Scorer.1\": \"NK\", \"MCS.2\": 0.617, \"Scorer.2\": \"MS\", \"MCS.avg\": 0.583, \"R1CS.1\": null, \"Scorer.1.1\": null, \"R1CS.2\": null, \"Scorer.2.1\": null, \"R1CS.avg\": null, \"R2CS.1\": null, \"Scorer.1.2\": null, \"R2CS.2\": null, \"Scorer.2.2\": null, \"R2CS.avg\": null, \"TS.1\": 0.42, \"Scorer.1.3\": \"NK\", \"TS.2\": 0.44, \"Scorer.2.3\": \"MS\", \"TS.avg\": 0.43, \"Exc.1\": 0, \"Exc.2\": 0, \"Collection\": 1}, {\"ID\": \"KB29\", \"Age\": 19, \"Gender\": \"Male\", \"Date.P1\": \"1/23/17\", \"Date.P2\": \"1/31/17\", \"Condition\": \"Concept\", \"IC.1\": 1, \"IC.2\": 1, \"Comp.1\": 1, \"Comp.2\": 1, \"PR.1\": 1.0, \"PR.2\": 0.9, \"MCS.1\": 0.867, \"Scorer.1\": \"TT\", \"MCS.2\": 0.85, \"Scorer.2\": \"NK\", \"MCS.avg\": 0.8585, \"R1CS.1\": null, \"Scorer.1.1\": null, \"R1CS.2\": null, \"Scorer.2.1\": null, \"R1CS.avg\": null, \"R2CS.1\": null, \"Scorer.1.2\": null, \"R2CS.2\": null, \"Scorer.2.2\": null, \"R2CS.avg\": null, \"TS.1\": 0.6, \"Scorer.1.3\": \"LH\", \"TS.2\": 0.6, \"Scorer.2.3\": \"TT\", \"TS.avg\": 0.6, \"Exc.1\": 0, \"Exc.2\": 0, \"Collection\": 1}, {\"ID\": \"KB30\", \"Age\": 18, \"Gender\": \"Female\", \"Date.P1\": \"1/23/17\", \"Date.P2\": \"1/31/17\", \"Condition\": \"Concept\", \"IC.1\": 1, \"IC.2\": 1, \"Comp.1\": 1, \"Comp.2\": 1, \"PR.1\": 1.0, \"PR.2\": 0.4, \"MCS.1\": 0.76, \"Scorer.1\": \"NK\", \"MCS.2\": 0.7829999999999999, \"Scorer.2\": \"TT\", \"MCS.avg\": 0.767, \"R1CS.1\": null, \"Scorer.1.1\": null, \"R1CS.2\": null, \"Scorer.2.1\": null, \"R1CS.avg\": null, \"R2CS.1\": null, \"Scorer.1.2\": null, \"R2CS.2\": null, \"Scorer.2.2\": null, \"R2CS.avg\": null, \"TS.1\": 0.8, \"Scorer.1.3\": \"LH\", \"TS.2\": 0.8, \"Scorer.2.3\": \"NK\", \"TS.avg\": 0.8, \"Exc.1\": 0, \"Exc.2\": 0, \"Collection\": 1}, {\"ID\": \"KB31\", \"Age\": 19, \"Gender\": \"Female\", \"Date.P1\": \"1/23/17\", \"Date.P2\": \"2/1/17\", \"Condition\": \"Concept\", \"IC.1\": 1, \"IC.2\": 1, \"Comp.1\": 1, \"Comp.2\": 1, \"PR.1\": 1.0, \"PR.2\": 0.6, \"MCS.1\": 0.733, \"Scorer.1\": \"TT\", \"MCS.2\": 0.75, \"Scorer.2\": \"NK\", \"MCS.avg\": 0.74, \"R1CS.1\": null, \"Scorer.1.1\": null, \"R1CS.2\": null, \"Scorer.2.1\": null, \"R1CS.avg\": null, \"R2CS.1\": null, \"Scorer.1.2\": null, \"R2CS.2\": null, \"Scorer.2.2\": null, \"R2CS.avg\": null, \"TS.1\": 0.22, \"Scorer.1.3\": \"LH\", \"TS.2\": 0.22, \"Scorer.2.3\": \"NK\", \"TS.avg\": 0.22, \"Exc.1\": 0, \"Exc.2\": 0, \"Collection\": 1}, {\"ID\": \"KB32\", \"Age\": 18, \"Gender\": \"Male\", \"Date.P1\": \"1/23/17\", \"Date.P2\": \"1/31/17\", \"Condition\": \"Concept\", \"IC.1\": 1, \"IC.2\": 1, \"Comp.1\": 1, \"Comp.2\": 1, \"PR.1\": 0.0, \"PR.2\": 0.7, \"MCS.1\": 0.62, \"Scorer.1\": \"NK\", \"MCS.2\": 0.633, \"Scorer.2\": \"TT\", \"MCS.avg\": 0.623, \"R1CS.1\": null, \"Scorer.1.1\": null, \"R1CS.2\": null, \"Scorer.2.1\": null, \"R1CS.avg\": null, \"R2CS.1\": null, \"Scorer.1.2\": null, \"R2CS.2\": null, \"Scorer.2.2\": null, \"R2CS.avg\": null, \"TS.1\": 0.54, \"Scorer.1.3\": \"LH\", \"TS.2\": 0.46, \"Scorer.2.3\": \"NK\", \"TS.avg\": 0.5, \"Exc.1\": 0, \"Exc.2\": 0, \"Collection\": 1}, {\"ID\": \"KB33\", \"Age\": 21, \"Gender\": \"Male\", \"Date.P1\": \"1/24/17\", \"Date.P2\": \"1/31/17\", \"Condition\": \"Concept\", \"IC.1\": 1, \"IC.2\": 1, \"Comp.1\": 1, \"Comp.2\": 1, \"PR.1\": 1.0, \"PR.2\": 0.7, \"MCS.1\": 0.767, \"Scorer.1\": \"TT\", \"MCS.2\": 0.8, \"Scorer.2\": \"NK\", \"MCS.avg\": 0.785, \"R1CS.1\": null, \"Scorer.1.1\": null, \"R1CS.2\": null, \"Scorer.2.1\": null, \"R1CS.avg\": null, \"R2CS.1\": null, \"Scorer.1.2\": null, \"R2CS.2\": null, \"Scorer.2.2\": null, \"R2CS.avg\": null, \"TS.1\": 0.64, \"Scorer.1.3\": \"LH\", \"TS.2\": 0.64, \"Scorer.2.3\": \"TT\", \"TS.avg\": 0.64, \"Exc.1\": 0, \"Exc.2\": 0, \"Collection\": 1}, {\"ID\": \"KB34\", \"Age\": 22, \"Gender\": \"Female\", \"Date.P1\": \"1/24/17\", \"Date.P2\": \"1/31/17\", \"Condition\": \"Retrieval\", \"IC.1\": 1, \"IC.2\": 1, \"Comp.1\": 1, \"Comp.2\": 1, \"PR.1\": null, \"PR.2\": 0.8, \"MCS.1\": null, \"Scorer.1\": null, \"MCS.2\": null, \"Scorer.2\": null, \"MCS.avg\": null, \"R1CS.1\": 0.36700000000000005, \"Scorer.1.1\": \"TT\", \"R1CS.2\": 0.38299999999999995, \"Scorer.2.1\": \"LH\", \"R1CS.avg\": 0.375, \"R2CS.1\": 0.5670000000000001, \"Scorer.1.2\": \"TT\", \"R2CS.2\": 0.6, \"Scorer.2.2\": \"LH\", \"R2CS.avg\": 0.584, \"TS.1\": 0.42, \"Scorer.1.3\": \"LH\", \"TS.2\": 0.32, \"Scorer.2.3\": \"TT\", \"TS.avg\": 0.37, \"Exc.1\": 0, \"Exc.2\": 0, \"Collection\": 1}, {\"ID\": \"KB35\", \"Age\": 19, \"Gender\": \"Male\", \"Date.P1\": \"1/24/17\", \"Date.P2\": \"2/2/17\", \"Condition\": \"Retrieval\", \"IC.1\": 1, \"IC.2\": 1, \"Comp.1\": 1, \"Comp.2\": 1, \"PR.1\": null, \"PR.2\": 0.9, \"MCS.1\": null, \"Scorer.1\": null, \"MCS.2\": null, \"Scorer.2\": null, \"MCS.avg\": null, \"R1CS.1\": 0.767, \"Scorer.1.1\": \"TT\", \"R1CS.2\": 0.8, \"Scorer.2.1\": \"LH\", \"R1CS.avg\": 0.784, \"R2CS.1\": 0.867, \"Scorer.1.2\": \"TT\", \"R2CS.2\": 0.9, \"Scorer.2.2\": \"LH\", \"R2CS.avg\": 0.884, \"TS.1\": 1.0, \"Scorer.1.3\": \"LH\", \"TS.2\": 1.0, \"Scorer.2.3\": \"NK\", \"TS.avg\": 1.0, \"Exc.1\": 0, \"Exc.2\": 0, \"Collection\": 1}, {\"ID\": \"KB37\", \"Age\": 20, \"Gender\": \"Male\", \"Date.P1\": \"1/24/17\", \"Date.P2\": \"1/31/17\", \"Condition\": \"Retrieval\", \"IC.1\": 1, \"IC.2\": 1, \"Comp.1\": 1, \"Comp.2\": 1, \"PR.1\": null, \"PR.2\": 0.8, \"MCS.1\": null, \"Scorer.1\": null, \"MCS.2\": null, \"Scorer.2\": null, \"MCS.avg\": null, \"R1CS.1\": 0.4, \"Scorer.1.1\": \"TT\", \"R1CS.2\": 0.5, \"Scorer.2.1\": \"LH\", \"R1CS.avg\": 0.45, \"R2CS.1\": 0.75, \"Scorer.1.2\": \"TT\", \"R2CS.2\": 0.8, \"Scorer.2.2\": \"LH\", \"R2CS.avg\": 0.775, \"TS.1\": 0.44, \"Scorer.1.3\": \"LH\", \"TS.2\": 0.44, \"Scorer.2.3\": \"TT\", \"TS.avg\": 0.44, \"Exc.1\": 0, \"Exc.2\": 0, \"Collection\": 1}, {\"ID\": \"KB38\", \"Age\": 19, \"Gender\": \"Female\", \"Date.P1\": \"1/24/17\", \"Date.P2\": \"1/31/17\", \"Condition\": \"Concept\", \"IC.1\": 1, \"IC.2\": 1, \"Comp.1\": 1, \"Comp.2\": 1, \"PR.1\": 1.0, \"PR.2\": 0.7, \"MCS.1\": 0.7170000000000001, \"Scorer.1\": \"NK\", \"MCS.2\": 0.733, \"Scorer.2\": \"TT\", \"MCS.avg\": 0.725, \"R1CS.1\": null, \"Scorer.1.1\": null, \"R1CS.2\": null, \"Scorer.2.1\": null, \"R1CS.avg\": null, \"R2CS.1\": null, \"Scorer.1.2\": null, \"R2CS.2\": null, \"Scorer.2.2\": null, \"R2CS.avg\": null, \"TS.1\": 0.22, \"Scorer.1.3\": \"LH\", \"TS.2\": 0.18, \"Scorer.2.3\": \"TT\", \"TS.avg\": 0.2, \"Exc.1\": 0, \"Exc.2\": 0, \"Collection\": 1}, {\"ID\": \"KB39\", \"Age\": 19, \"Gender\": \"Female\", \"Date.P1\": \"1/25/17\", \"Date.P2\": \"2/1/17\", \"Condition\": \"Concept\", \"IC.1\": 1, \"IC.2\": 1, \"Comp.1\": 1, \"Comp.2\": 1, \"PR.1\": 0.0, \"PR.2\": 0.7, \"MCS.1\": 0.41700000000000004, \"Scorer.1\": \"NK\", \"MCS.2\": 0.41700000000000004, \"Scorer.2\": \"TT\", \"MCS.avg\": 0.41700000000000004, \"R1CS.1\": null, \"Scorer.1.1\": null, \"R1CS.2\": null, \"Scorer.2.1\": null, \"R1CS.avg\": null, \"R2CS.1\": null, \"Scorer.1.2\": null, \"R2CS.2\": null, \"Scorer.2.2\": null, \"R2CS.avg\": null, \"TS.1\": 0.48, \"Scorer.1.3\": \"LH\", \"TS.2\": 0.5, \"Scorer.2.3\": \"NK\", \"TS.avg\": 0.49, \"Exc.1\": 0, \"Exc.2\": 0, \"Collection\": 1}, {\"ID\": \"KB40\", \"Age\": 20, \"Gender\": \"Female\", \"Date.P1\": \"1/25/17\", \"Date.P2\": \"2/2/17\", \"Condition\": \"Retrieval\", \"IC.1\": 1, \"IC.2\": 1, \"Comp.1\": 1, \"Comp.2\": 1, \"PR.1\": null, \"PR.2\": 0.4, \"MCS.1\": null, \"Scorer.1\": null, \"MCS.2\": null, \"Scorer.2\": null, \"MCS.avg\": null, \"R1CS.1\": 0.36700000000000005, \"Scorer.1.1\": \"TT\", \"R1CS.2\": 0.4, \"Scorer.2.1\": \"LH\", \"R1CS.avg\": 0.384, \"R2CS.1\": 0.65, \"Scorer.1.2\": \"TT\", \"R2CS.2\": 0.7170000000000001, \"Scorer.2.2\": \"LH\", \"R2CS.avg\": 0.6829999999999999, \"TS.1\": 0.66, \"Scorer.1.3\": \"LH\", \"TS.2\": 0.6, \"Scorer.2.3\": \"NK\", \"TS.avg\": 0.63, \"Exc.1\": 0, \"Exc.2\": 0, \"Collection\": 1}, {\"ID\": \"KB41\", \"Age\": 19, \"Gender\": \"Female\", \"Date.P1\": \"1/25/17\", \"Date.P2\": \"2/1/17\", \"Condition\": \"Retrieval\", \"IC.1\": 1, \"IC.2\": 1, \"Comp.1\": 1, \"Comp.2\": 1, \"PR.1\": null, \"PR.2\": 0.6, \"MCS.1\": null, \"Scorer.1\": null, \"MCS.2\": null, \"Scorer.2\": null, \"MCS.avg\": null, \"R1CS.1\": 0.633, \"Scorer.1.1\": \"TT\", \"R1CS.2\": 0.733, \"Scorer.2.1\": \"LH\", \"R1CS.avg\": 0.6829999999999999, \"R2CS.1\": 0.767, \"Scorer.1.2\": \"TT\", \"R2CS.2\": 0.833, \"Scorer.2.2\": \"LH\", \"R2CS.avg\": 0.8, \"TS.1\": 0.66, \"Scorer.1.3\": \"LH\", \"TS.2\": 0.7, \"Scorer.2.3\": \"NK\", \"TS.avg\": 0.68, \"Exc.1\": 0, \"Exc.2\": 0, \"Collection\": 1}, {\"ID\": \"KB42\", \"Age\": 19, \"Gender\": \"Female\", \"Date.P1\": \"1/25/17\", \"Date.P2\": \"2/1/17\", \"Condition\": \"Retrieval\", \"IC.1\": 1, \"IC.2\": 1, \"Comp.1\": 1, \"Comp.2\": 1, \"PR.1\": null, \"PR.2\": 0.4, \"MCS.1\": null, \"Scorer.1\": null, \"MCS.2\": null, \"Scorer.2\": null, \"MCS.avg\": null, \"R1CS.1\": 0.7170000000000001, \"Scorer.1.1\": \"TT\", \"R1CS.2\": 0.6829999999999999, \"Scorer.2.1\": \"LH\", \"R1CS.avg\": 0.7, \"R2CS.1\": 0.7, \"Scorer.1.2\": \"TT\", \"R2CS.2\": 0.7, \"Scorer.2.2\": \"LH\", \"R2CS.avg\": 0.7, \"TS.1\": 0.88, \"Scorer.1.3\": \"LH\", \"TS.2\": 0.8, \"Scorer.2.3\": \"NK\", \"TS.avg\": 0.84, \"Exc.1\": 0, \"Exc.2\": 0, \"Collection\": 1}, {\"ID\": \"KB43\", \"Age\": 18, \"Gender\": \"Female\", \"Date.P1\": \"1/25/17\", \"Date.P2\": \"2/1/17\", \"Condition\": \"Retrieval\", \"IC.1\": 1, \"IC.2\": 1, \"Comp.1\": 1, \"Comp.2\": 1, \"PR.1\": null, \"PR.2\": 0.4, \"MCS.1\": null, \"Scorer.1\": null, \"MCS.2\": null, \"Scorer.2\": null, \"MCS.avg\": null, \"R1CS.1\": 0.45, \"Scorer.1.1\": \"TT\", \"R1CS.2\": 0.467, \"Scorer.2.1\": \"LH\", \"R1CS.avg\": 0.45799999999999996, \"R2CS.1\": 0.7170000000000001, \"Scorer.1.2\": \"TT\", \"R2CS.2\": 0.7170000000000001, \"Scorer.2.2\": \"LH\", \"R2CS.avg\": 0.7170000000000001, \"TS.1\": 0.58, \"Scorer.1.3\": \"LH\", \"TS.2\": 0.54, \"Scorer.2.3\": \"NK\", \"TS.avg\": 0.56, \"Exc.1\": 0, \"Exc.2\": 0, \"Collection\": 1}, {\"ID\": \"KB44\", \"Age\": 20, \"Gender\": \"Male\", \"Date.P1\": \"1/25/17\", \"Date.P2\": \"2/1/17\", \"Condition\": \"Concept\", \"IC.1\": 1, \"IC.2\": 1, \"Comp.1\": 1, \"Comp.2\": 1, \"PR.1\": 0.0, \"PR.2\": 0.5, \"MCS.1\": 0.75, \"Scorer.1\": \"TT\", \"MCS.2\": 0.85, \"Scorer.2\": \"NK\", \"MCS.avg\": 0.8, \"R1CS.1\": null, \"Scorer.1.1\": null, \"R1CS.2\": null, \"Scorer.2.1\": null, \"R1CS.avg\": null, \"R2CS.1\": null, \"Scorer.1.2\": null, \"R2CS.2\": null, \"Scorer.2.2\": null, \"R2CS.avg\": null, \"TS.1\": 0.82, \"Scorer.1.3\": \"LH\", \"TS.2\": 0.76, \"Scorer.2.3\": \"NK\", \"TS.avg\": 0.79, \"Exc.1\": 0, \"Exc.2\": 0, \"Collection\": 1}, {\"ID\": \"KB45\", \"Age\": 19, \"Gender\": \"Female\", \"Date.P1\": \"1/26/17\", \"Date.P2\": \"2/2/17\", \"Condition\": \"Retrieval\", \"IC.1\": 1, \"IC.2\": 1, \"Comp.1\": 1, \"Comp.2\": 1, \"PR.1\": null, \"PR.2\": 0.5, \"MCS.1\": null, \"Scorer.1\": null, \"MCS.2\": null, \"Scorer.2\": null, \"MCS.avg\": null, \"R1CS.1\": 0.66, \"Scorer.1.1\": \"NK\", \"R1CS.2\": 0.8170000000000001, \"Scorer.2.1\": \"LH\", \"R1CS.avg\": 0.738, \"R2CS.1\": 0.8, \"Scorer.1.2\": \"NK\", \"R2CS.2\": 0.85, \"Scorer.2.2\": \"LH\", \"R2CS.avg\": 0.825, \"TS.1\": 0.68, \"Scorer.1.3\": \"LH\", \"TS.2\": 0.68, \"Scorer.2.3\": \"TT\", \"TS.avg\": 0.68, \"Exc.1\": 0, \"Exc.2\": 0, \"Collection\": 1}]}}, {\"mode\": \"vega-lite\"});\n",
              "</script>"
            ]
          },
          "metadata": {},
          "execution_count": 93
        }
      ]
    },
    {
      "cell_type": "code",
      "source": [
        "df_learning.groupby('Condition')['TS.avg'].plot.density(title='Distribution of test 2 scores by condition',legend=True)"
      ],
      "metadata": {
        "colab": {
          "base_uri": "https://localhost:8080/",
          "height": 350
        },
        "id": "g86zZVUCqaWm",
        "outputId": "8ba969b2-ea26-4007-cbca-cf88e8831a43"
      },
      "execution_count": null,
      "outputs": [
        {
          "output_type": "execute_result",
          "data": {
            "text/plain": [
              "Condition\n",
              "Concept      AxesSubplot(0.125,0.125;0.775x0.755)\n",
              "Retrieval    AxesSubplot(0.125,0.125;0.775x0.755)\n",
              "Name: TS.avg, dtype: object"
            ]
          },
          "metadata": {},
          "execution_count": 15
        },
        {
          "output_type": "display_data",
          "data": {
            "image/png": "[encoded data removed]",
            "text/plain": [
              "<Figure size 432x288 with 1 Axes>"
            ]
          },
          "metadata": {
            "needs_background": "light"
          }
        }
      ]
    },
    {
      "cell_type": "markdown",
      "metadata": {
        "id": "t3d928CqOIcn"
      },
      "source": [
        "I believe that TS.1 and TS.2 are the real test scores each participant got. This is beacause each row has a value for this, and in the Excel Sheet they are labeled as Follow-up test scores. I have decided to use the average (TS.avg), since it encapsulates both scores. \n",
        "\n",
        "Based on the boxplots, on average the Retrieval group scored higher than the Concept group. The distributions of the scores for the two groups were normal and nearly identical, with the retrieval scores typically running a bit higher."
      ]
    },
    {
      "cell_type": "markdown",
      "metadata": {
        "id": "e_fjtBzsOIco"
      },
      "source": [
        "# Question 3\n",
        "\n",
        "How good were subjects at predicting how well they would do on the follow-up learning test? Calculate a measure of how well subjects predicted their performance and interpret the value in context. (Optionally, you may want to include a visualization as well.)"
      ]
    },
    {
      "cell_type": "code",
      "metadata": {
        "id": "Q-gKgg8IOIcp",
        "colab": {
          "base_uri": "https://localhost:8080/",
          "height": 109
        },
        "outputId": "b65c010c-b0c9-4372-c615-e26b3e86a977"
      },
      "source": [
        "df_learning[\"score_diff\"] = df_learning[\"PR.2\"] - df_learning[\"TS.avg\"]\n",
        "\n",
        "Chart(df_learning).mark_boxplot().encode(\n",
        "    x = \"score_diff\",\n",
        "    y = \"Condition\"\n",
        ")"
      ],
      "execution_count": null,
      "outputs": [
        {
          "output_type": "execute_result",
          "data": {
            "text/plain": [
              "alt.Chart(...)"
            ],
            "text/html": [
              "\n",
              "<div id=\"altair-viz-16377c84d26a4e0cbd663ed6ef024bb4\"></div>\n",
              "<script type=\"text/javascript\">\n",
              "  var VEGA_DEBUG = (typeof VEGA_DEBUG == \"undefined\") ? {} : VEGA_DEBUG;\n",
              "  (function(spec, embedOpt){\n",
              "    let outputDiv = document.currentScript.previousElementSibling;\n",
              "    if (outputDiv.id !== \"altair-viz-16377c84d26a4e0cbd663ed6ef024bb4\") {\n",
              "      outputDiv = document.getElementById(\"altair-viz-16377c84d26a4e0cbd663ed6ef024bb4\");\n",
              "    }\n",
              "    const paths = {\n",
              "      \"vega\": \"https://cdn.jsdelivr.net/npm//vega@5?noext\",\n",
              "      \"vega-lib\": \"https://cdn.jsdelivr.net/npm//vega-lib?noext\",\n",
              "      \"vega-lite\": \"https://cdn.jsdelivr.net/npm//vega-lite@4.17.0?noext\",\n",
              "      \"vega-embed\": \"https://cdn.jsdelivr.net/npm//vega-embed@6?noext\",\n",
              "    };\n",
              "\n",
              "    function maybeLoadScript(lib, version) {\n",
              "      var key = `${lib.replace(\"-\", \"\")}_version`;\n",
              "      return (VEGA_DEBUG[key] == version) ?\n",
              "        Promise.resolve(paths[lib]) :\n",
              "        new Promise(function(resolve, reject) {\n",
              "          var s = document.createElement('script');\n",
              "          document.getElementsByTagName(\"head\")[0].appendChild(s);\n",
              "          s.async = true;\n",
              "          s.onload = () => {\n",
              "            VEGA_DEBUG[key] = version;\n",
              "            return resolve(paths[lib]);\n",
              "          };\n",
              "          s.onerror = () => reject(`Error loading script: ${paths[lib]}`);\n",
              "          s.src = paths[lib];\n",
              "        });\n",
              "    }\n",
              "\n",
              "    function showError(err) {\n",
              "      outputDiv.innerHTML = `<div class=\"error\" style=\"color:red;\">${err}</div>`;\n",
              "      throw err;\n",
              "    }\n",
              "\n",
              "    function displayChart(vegaEmbed) {\n",
              "      vegaEmbed(outputDiv, spec, embedOpt)\n",
              "        .catch(err => showError(`Javascript Error: ${err.message}<br>This usually means there's a typo in your chart specification. See the javascript console for the full traceback.`));\n",
              "    }\n",
              "\n",
              "    if(typeof define === \"function\" && define.amd) {\n",
              "      requirejs.config({paths});\n",
              "      require([\"vega-embed\"], displayChart, err => showError(`Error loading script: ${err.message}`));\n",
              "    } else {\n",
              "      maybeLoadScript(\"vega\", \"5\")\n",
              "        .then(() => maybeLoadScript(\"vega-lite\", \"4.17.0\"))\n",
              "        .then(() => maybeLoadScript(\"vega-embed\", \"6\"))\n",
              "        .catch(showError)\n",
              "        .then(() => displayChart(vegaEmbed));\n",
              "    }\n",
              "  })({\"config\": {\"view\": {\"continuousWidth\": 400, \"continuousHeight\": 300}}, \"data\": {\"name\": \"data-f8c0f58d3d08406f28f1b51cb0004d2c\"}, \"mark\": \"boxplot\", \"encoding\": {\"x\": {\"field\": \"score_diff\", \"type\": \"quantitative\"}, \"y\": {\"field\": \"Condition\", \"type\": \"nominal\"}}, \"$schema\": \"https://vega.github.io/schema/vega-lite/v4.17.0.json\", \"datasets\": {\"data-f8c0f58d3d08406f28f1b51cb0004d2c\": [{\"ID\": \"KB1\", \"Age\": 18, \"Gender\": \"Female\", \"Date.P1\": \"11/21/16\", \"Date.P2\": \"11/28/16\", \"Condition\": \"Concept\", \"IC.1\": 1, \"IC.2\": 1, \"Comp.1\": 1, \"Comp.2\": 1, \"PR.1\": 1.0, \"PR.2\": 0.8, \"MCS.1\": 0.75, \"Scorer.1\": \"NK\", \"MCS.2\": 0.67, \"Scorer.2\": \"TT\", \"MCS.avg\": 0.71, \"R1CS.1\": null, \"Scorer.1.1\": null, \"R1CS.2\": null, \"Scorer.2.1\": null, \"R1CS.avg\": null, \"R2CS.1\": null, \"Scorer.1.2\": null, \"R2CS.2\": null, \"Scorer.2.2\": null, \"R2CS.avg\": null, \"TS.1\": 0.36, \"Scorer.1.3\": \"NK\", \"TS.2\": 0.42, \"Scorer.2.3\": \"MS\", \"TS.avg\": 0.39, \"Exc.1\": 0, \"Exc.2\": 0, \"Collection\": 1, \"score_diff\": 0.41000000000000003}, {\"ID\": \"KB2\", \"Age\": 18, \"Gender\": \"Male\", \"Date.P1\": \"11/21/16\", \"Date.P2\": \"11/28/16\", \"Condition\": \"Concept\", \"IC.1\": 1, \"IC.2\": 1, \"Comp.1\": 1, \"Comp.2\": 1, \"PR.1\": 0.0, \"PR.2\": 0.7, \"MCS.1\": 0.4, \"Scorer.1\": \"NK\", \"MCS.2\": 0.36700000000000005, \"Scorer.2\": \"TT\", \"MCS.avg\": 0.3835, \"R1CS.1\": null, \"Scorer.1.1\": null, \"R1CS.2\": null, \"Scorer.2.1\": null, \"R1CS.avg\": null, \"R2CS.1\": null, \"Scorer.1.2\": null, \"R2CS.2\": null, \"Scorer.2.2\": null, \"R2CS.avg\": null, \"TS.1\": 0.48, \"Scorer.1.3\": \"MS\", \"TS.2\": 0.36, \"Scorer.2.3\": \"NK\", \"TS.avg\": 0.42, \"Exc.1\": 0, \"Exc.2\": 0, \"Collection\": 1, \"score_diff\": 0.27999999999999997}, {\"ID\": \"KB3\", \"Age\": 18, \"Gender\": \"Male\", \"Date.P1\": \"11/21/16\", \"Date.P2\": \"11/28/16\", \"Condition\": \"Concept\", \"IC.1\": 1, \"IC.2\": 1, \"Comp.1\": 1, \"Comp.2\": 1, \"PR.1\": 0.0, \"PR.2\": 0.7, \"MCS.1\": 0.433, \"Scorer.1\": \"NK\", \"MCS.2\": 0.55, \"Scorer.2\": \"MS\", \"MCS.avg\": 0.4915, \"R1CS.1\": null, \"Scorer.1.1\": null, \"R1CS.2\": null, \"Scorer.2.1\": null, \"R1CS.avg\": null, \"R2CS.1\": null, \"Scorer.1.2\": null, \"R2CS.2\": null, \"Scorer.2.2\": null, \"R2CS.avg\": null, \"TS.1\": 0.08, \"Scorer.1.3\": \"NK\", \"TS.2\": 0.08, \"Scorer.2.3\": \"MS\", \"TS.avg\": 0.08, \"Exc.1\": 0, \"Exc.2\": 0, \"Collection\": 1, \"score_diff\": 0.62}, {\"ID\": \"KB4\", \"Age\": 19, \"Gender\": \"Female\", \"Date.P1\": \"11/21/16\", \"Date.P2\": \"11/28/16\", \"Condition\": \"Concept\", \"IC.1\": 1, \"IC.2\": 1, \"Comp.1\": 1, \"Comp.2\": 1, \"PR.1\": 0.0, \"PR.2\": 0.7, \"MCS.1\": 0.317, \"Scorer.1\": \"NK\", \"MCS.2\": 0.33299999999999996, \"Scorer.2\": \"MS\", \"MCS.avg\": 0.325, \"R1CS.1\": null, \"Scorer.1.1\": null, \"R1CS.2\": null, \"Scorer.2.1\": null, \"R1CS.avg\": null, \"R2CS.1\": null, \"Scorer.1.2\": null, \"R2CS.2\": null, \"Scorer.2.2\": null, \"R2CS.avg\": null, \"TS.1\": 0.44, \"Scorer.1.3\": \"MS\", \"TS.2\": 0.42, \"Scorer.2.3\": \"NK\", \"TS.avg\": 0.43, \"Exc.1\": 0, \"Exc.2\": 0, \"Collection\": 1, \"score_diff\": 0.26999999999999996}, {\"ID\": \"KB5\", \"Age\": 19, \"Gender\": \"Female\", \"Date.P1\": \"11/22/16\", \"Date.P2\": \"11/29/16\", \"Condition\": \"Concept\", \"IC.1\": 1, \"IC.2\": 1, \"Comp.1\": 1, \"Comp.2\": 1, \"PR.1\": 0.0, \"PR.2\": 0.95, \"MCS.1\": 0.6829999999999999, \"Scorer.1\": \"NK\", \"MCS.2\": 0.7170000000000001, \"Scorer.2\": \"MS\", \"MCS.avg\": 0.7, \"R1CS.1\": null, \"Scorer.1.1\": null, \"R1CS.2\": null, \"Scorer.2.1\": null, \"R1CS.avg\": null, \"R2CS.1\": null, \"Scorer.1.2\": null, \"R2CS.2\": null, \"Scorer.2.2\": null, \"R2CS.avg\": null, \"TS.1\": 0.26, \"Scorer.1.3\": \"NK\", \"TS.2\": 0.28, \"Scorer.2.3\": \"MS\", \"TS.avg\": 0.27, \"Exc.1\": 0, \"Exc.2\": 0, \"Collection\": 1, \"score_diff\": 0.6799999999999999}, {\"ID\": \"KB6\", \"Age\": 19, \"Gender\": \"Male\", \"Date.P1\": \"11/22/16\", \"Date.P2\": \"11/29/16\", \"Condition\": \"Concept\", \"IC.1\": 1, \"IC.2\": 1, \"Comp.1\": 1, \"Comp.2\": 1, \"PR.1\": 1.0, \"PR.2\": 0.6, \"MCS.1\": 0.8170000000000001, \"Scorer.1\": \"NK\", \"MCS.2\": 0.7829999999999999, \"Scorer.2\": \"MS\", \"MCS.avg\": 0.8, \"R1CS.1\": null, \"Scorer.1.1\": null, \"R1CS.2\": null, \"Scorer.2.1\": null, \"R1CS.avg\": null, \"R2CS.1\": null, \"Scorer.1.2\": null, \"R2CS.2\": null, \"Scorer.2.2\": null, \"R2CS.avg\": null, \"TS.1\": 0.4, \"Scorer.1.3\": \"NK\", \"TS.2\": 0.46, \"Scorer.2.3\": \"MS\", \"TS.avg\": 0.43, \"Exc.1\": 0, \"Exc.2\": 0, \"Collection\": 1, \"score_diff\": 0.16999999999999998}, {\"ID\": \"KB7\", \"Age\": 18, \"Gender\": \"Male\", \"Date.P1\": \"11/22/16\", \"Date.P2\": \"12/6/16\", \"Condition\": \"Concept\", \"IC.1\": 1, \"IC.2\": 1, \"Comp.1\": 1, \"Comp.2\": 1, \"PR.1\": 1.0, \"PR.2\": 0.6, \"MCS.1\": 0.733, \"Scorer.1\": \"NK\", \"MCS.2\": 0.767, \"Scorer.2\": \"MS\", \"MCS.avg\": 0.75, \"R1CS.1\": null, \"Scorer.1.1\": null, \"R1CS.2\": null, \"Scorer.2.1\": null, \"R1CS.avg\": null, \"R2CS.1\": null, \"Scorer.1.2\": null, \"R2CS.2\": null, \"Scorer.2.2\": null, \"R2CS.avg\": null, \"TS.1\": 0.38, \"Scorer.1.3\": \"MS\", \"TS.2\": 0.36, \"Scorer.2.3\": \"CB\", \"TS.avg\": 0.37, \"Exc.1\": 0, \"Exc.2\": 0, \"Collection\": 1, \"score_diff\": 0.22999999999999998}, {\"ID\": \"KB8\", \"Age\": 20, \"Gender\": \"Male\", \"Date.P1\": \"11/22/16\", \"Date.P2\": \"11/29/16\", \"Condition\": \"Concept\", \"IC.1\": 1, \"IC.2\": 1, \"Comp.1\": 1, \"Comp.2\": 1, \"PR.1\": 1.0, \"PR.2\": 0.5, \"MCS.1\": 0.35, \"Scorer.1\": \"NK\", \"MCS.2\": 0.33299999999999996, \"Scorer.2\": \"MS\", \"MCS.avg\": 0.3415, \"R1CS.1\": null, \"Scorer.1.1\": null, \"R1CS.2\": null, \"Scorer.2.1\": null, \"R1CS.avg\": null, \"R2CS.1\": null, \"Scorer.1.2\": null, \"R2CS.2\": null, \"Scorer.2.2\": null, \"R2CS.avg\": null, \"TS.1\": 0.44, \"Scorer.1.3\": \"NK\", \"TS.2\": 0.46, \"Scorer.2.3\": \"MS\", \"TS.avg\": 0.45, \"Exc.1\": 0, \"Exc.2\": 0, \"Collection\": 1, \"score_diff\": 0.04999999999999999}, {\"ID\": \"KB9\", \"Age\": 20, \"Gender\": \"Male\", \"Date.P1\": \"11/22/16\", \"Date.P2\": \"11/28/16\", \"Condition\": \"Concept\", \"IC.1\": 1, \"IC.2\": 1, \"Comp.1\": 1, \"Comp.2\": 1, \"PR.1\": 0.0, \"PR.2\": 0.6, \"MCS.1\": 0.65, \"Scorer.1\": \"NK\", \"MCS.2\": 0.65, \"Scorer.2\": \"MS\", \"MCS.avg\": 0.65, \"R1CS.1\": null, \"Scorer.1.1\": null, \"R1CS.2\": null, \"Scorer.2.1\": null, \"R1CS.avg\": null, \"R2CS.1\": null, \"Scorer.1.2\": null, \"R2CS.2\": null, \"Scorer.2.2\": null, \"R2CS.avg\": null, \"TS.1\": 0.64, \"Scorer.1.3\": \"MS\", \"TS.2\": 0.58, \"Scorer.2.3\": \"NK\", \"TS.avg\": 0.61, \"Exc.1\": 0, \"Exc.2\": 0, \"Collection\": 1, \"score_diff\": -0.010000000000000009}, {\"ID\": \"KB10\", \"Age\": 20, \"Gender\": \"Female\", \"Date.P1\": \"11/29/16\", \"Date.P2\": \"12/6/16\", \"Condition\": \"Concept\", \"IC.1\": 1, \"IC.2\": 1, \"Comp.1\": 1, \"Comp.2\": 1, \"PR.1\": 1.0, \"PR.2\": 0.9, \"MCS.1\": 0.8170000000000001, \"Scorer.1\": \"NK\", \"MCS.2\": 0.7829999999999999, \"Scorer.2\": \"MS\", \"MCS.avg\": 0.8, \"R1CS.1\": null, \"Scorer.1.1\": null, \"R1CS.2\": null, \"Scorer.2.1\": null, \"R1CS.avg\": null, \"R2CS.1\": null, \"Scorer.1.2\": null, \"R2CS.2\": null, \"Scorer.2.2\": null, \"R2CS.avg\": null, \"TS.1\": 0.66, \"Scorer.1.3\": \"NK\", \"TS.2\": 0.7, \"Scorer.2.3\": \"MS\", \"TS.avg\": 0.68, \"Exc.1\": 0, \"Exc.2\": 0, \"Collection\": 1, \"score_diff\": 0.21999999999999997}, {\"ID\": \"KB11\", \"Age\": 21, \"Gender\": \"Female\", \"Date.P1\": \"11/21/16\", \"Date.P2\": \"11/28/16\", \"Condition\": \"Retrieval\", \"IC.1\": 1, \"IC.2\": 1, \"Comp.1\": 1, \"Comp.2\": 1, \"PR.1\": null, \"PR.2\": 0.4, \"MCS.1\": null, \"Scorer.1\": null, \"MCS.2\": null, \"Scorer.2\": null, \"MCS.avg\": null, \"R1CS.1\": 0.6, \"Scorer.1.1\": \"NK\", \"R1CS.2\": 0.6, \"Scorer.2.1\": \"TT\", \"R1CS.avg\": 0.6, \"R2CS.1\": 0.76, \"Scorer.1.2\": \"NK\", \"R2CS.2\": 0.7829999999999999, \"Scorer.2.2\": \"TT\", \"R2CS.avg\": 0.772, \"TS.1\": 0.38, \"Scorer.1.3\": \"MS\", \"TS.2\": 0.3, \"Scorer.2.3\": \"NK\", \"TS.avg\": 0.34, \"Exc.1\": 0, \"Exc.2\": 0, \"Collection\": 1, \"score_diff\": 0.06}, {\"ID\": \"KB12\", \"Age\": 18, \"Gender\": \"Female\", \"Date.P1\": \"11/21/16\", \"Date.P2\": \"11/29/16\", \"Condition\": \"Retrieval\", \"IC.1\": 1, \"IC.2\": 1, \"Comp.1\": 1, \"Comp.2\": 1, \"PR.1\": null, \"PR.2\": 0.6, \"MCS.1\": null, \"Scorer.1\": null, \"MCS.2\": null, \"Scorer.2\": null, \"MCS.avg\": null, \"R1CS.1\": 0.81, \"Scorer.1.1\": \"NK\", \"R1CS.2\": 0.85, \"Scorer.2.1\": \"TT\", \"R1CS.avg\": 0.83, \"R2CS.1\": 0.93, \"Scorer.1.2\": \"NK\", \"R2CS.2\": 0.9329999999999999, \"Scorer.2.2\": \"TT\", \"R2CS.avg\": 0.932, \"TS.1\": 0.76, \"Scorer.1.3\": \"NK\", \"TS.2\": 0.82, \"Scorer.2.3\": \"MS\", \"TS.avg\": 0.79, \"Exc.1\": 0, \"Exc.2\": 0, \"Collection\": 1, \"score_diff\": -0.19000000000000006}, {\"ID\": \"KB13\", \"Age\": 20, \"Gender\": \"Female\", \"Date.P1\": \"11/21/16\", \"Date.P2\": \"11/28/16\", \"Condition\": \"Retrieval\", \"IC.1\": 1, \"IC.2\": 1, \"Comp.1\": 1, \"Comp.2\": 1, \"PR.1\": null, \"PR.2\": 0.9, \"MCS.1\": null, \"Scorer.1\": null, \"MCS.2\": null, \"Scorer.2\": null, \"MCS.avg\": null, \"R1CS.1\": 0.63, \"Scorer.1.1\": \"NK\", \"R1CS.2\": 0.617, \"Scorer.2.1\": \"TT\", \"R1CS.avg\": 0.624, \"R2CS.1\": 0.76, \"Scorer.1.2\": \"NK\", \"R2CS.2\": 0.8, \"Scorer.2.2\": \"TT\", \"R2CS.avg\": 0.78, \"TS.1\": 0.8, \"Scorer.1.3\": \"MS\", \"TS.2\": 0.8, \"Scorer.2.3\": \"NK\", \"TS.avg\": 0.8, \"Exc.1\": 0, \"Exc.2\": 0, \"Collection\": 1, \"score_diff\": 0.09999999999999998}, {\"ID\": \"KB14\", \"Age\": 19, \"Gender\": \"Female\", \"Date.P1\": \"11/21/16\", \"Date.P2\": \"11/28/16\", \"Condition\": \"Retrieval\", \"IC.1\": 1, \"IC.2\": 1, \"Comp.1\": 1, \"Comp.2\": 1, \"PR.1\": null, \"PR.2\": 0.7, \"MCS.1\": null, \"Scorer.1\": null, \"MCS.2\": null, \"Scorer.2\": null, \"MCS.avg\": null, \"R1CS.1\": 0.56, \"Scorer.1.1\": \"NK\", \"R1CS.2\": 0.5670000000000001, \"Scorer.2.1\": \"TT\", \"R1CS.avg\": 0.564, \"R2CS.1\": 0.18, \"Scorer.1.2\": \"NK\", \"R2CS.2\": 0.16699999999999998, \"Scorer.2.2\": \"TT\", \"R2CS.avg\": 0.174, \"TS.1\": 0.48, \"Scorer.1.3\": \"MS\", \"TS.2\": 0.4, \"Scorer.2.3\": \"NK\", \"TS.avg\": 0.44, \"Exc.1\": 0, \"Exc.2\": 0, \"Collection\": 1, \"score_diff\": 0.25999999999999995}, {\"ID\": \"KB15\", \"Age\": 18, \"Gender\": \"Female\", \"Date.P1\": \"11/22/16\", \"Date.P2\": \"11/29/16\", \"Condition\": \"Retrieval\", \"IC.1\": 1, \"IC.2\": 1, \"Comp.1\": 1, \"Comp.2\": 1, \"PR.1\": null, \"PR.2\": 0.3, \"MCS.1\": null, \"Scorer.1\": null, \"MCS.2\": null, \"Scorer.2\": null, \"MCS.avg\": null, \"R1CS.1\": 0.4, \"Scorer.1.1\": \"TT\", \"R1CS.2\": 0.35, \"Scorer.2.1\": \"LH\", \"R1CS.avg\": 0.375, \"R2CS.1\": 0.483, \"Scorer.1.2\": \"TT\", \"R2CS.2\": 0.55, \"Scorer.2.2\": \"LH\", \"R2CS.avg\": 0.517, \"TS.1\": 0.34, \"Scorer.1.3\": \"MS\", \"TS.2\": 0.34, \"Scorer.2.3\": \"CB\", \"TS.avg\": 0.34, \"Exc.1\": 0, \"Exc.2\": 0, \"Collection\": 1, \"score_diff\": -0.040000000000000036}, {\"ID\": \"KB16\", \"Age\": 19, \"Gender\": \"Male\", \"Date.P1\": \"11/22/16\", \"Date.P2\": \"11/29/16\", \"Condition\": \"Retrieval\", \"IC.1\": 1, \"IC.2\": 1, \"Comp.1\": 1, \"Comp.2\": 1, \"PR.1\": null, \"PR.2\": 0.4, \"MCS.1\": null, \"Scorer.1\": null, \"MCS.2\": null, \"Scorer.2\": null, \"MCS.avg\": null, \"R1CS.1\": 0.5, \"Scorer.1.1\": \"TT\", \"R1CS.2\": 0.55, \"Scorer.2.1\": \"LH\", \"R1CS.avg\": 0.525, \"R2CS.1\": 0.8, \"Scorer.1.2\": \"TT\", \"R2CS.2\": 0.83, \"Scorer.2.2\": \"LH\", \"R2CS.avg\": 0.82, \"TS.1\": 0.6, \"Scorer.1.3\": \"NK\", \"TS.2\": 0.6, \"Scorer.2.3\": \"MS\", \"TS.avg\": 0.6, \"Exc.1\": 0, \"Exc.2\": 0, \"Collection\": 1, \"score_diff\": -0.19999999999999996}, {\"ID\": \"KB18\", \"Age\": 20, \"Gender\": \"Male\", \"Date.P1\": \"11/22/16\", \"Date.P2\": \"11/29/16\", \"Condition\": \"Retrieval\", \"IC.1\": 1, \"IC.2\": 1, \"Comp.1\": 1, \"Comp.2\": 1, \"PR.1\": null, \"PR.2\": 0.7, \"MCS.1\": null, \"Scorer.1\": null, \"MCS.2\": null, \"Scorer.2\": null, \"MCS.avg\": null, \"R1CS.1\": 0.7, \"Scorer.1.1\": \"TT\", \"R1CS.2\": 0.67, \"Scorer.2.1\": \"LH\", \"R1CS.avg\": 0.685, \"R2CS.1\": 0.8, \"Scorer.1.2\": \"TT\", \"R2CS.2\": 0.883, \"Scorer.2.2\": \"LH\", \"R2CS.avg\": 0.8420000000000001, \"TS.1\": 0.6, \"Scorer.1.3\": \"MS\", \"TS.2\": 0.64, \"Scorer.2.3\": \"CB\", \"TS.avg\": 0.62, \"Exc.1\": 0, \"Exc.2\": 0, \"Collection\": 1, \"score_diff\": 0.07999999999999996}, {\"ID\": \"KB19\", \"Age\": 21, \"Gender\": \"Female\", \"Date.P1\": \"11/29/16\", \"Date.P2\": \"12/6/16\", \"Condition\": \"Retrieval\", \"IC.1\": 1, \"IC.2\": 1, \"Comp.1\": 1, \"Comp.2\": 1, \"PR.1\": null, \"PR.2\": 0.4, \"MCS.1\": null, \"Scorer.1\": null, \"MCS.2\": null, \"Scorer.2\": null, \"MCS.avg\": null, \"R1CS.1\": 0.57, \"Scorer.1.1\": \"LH\", \"R1CS.2\": 0.65, \"Scorer.2.1\": \"TT\", \"R1CS.avg\": 0.61, \"R2CS.1\": 0.73, \"Scorer.1.2\": \"LH\", \"R2CS.2\": 0.8170000000000001, \"Scorer.2.2\": \"TT\", \"R2CS.avg\": 0.774, \"TS.1\": 0.72, \"Scorer.1.3\": \"NK\", \"TS.2\": 0.74, \"Scorer.2.3\": \"MS\", \"TS.avg\": 0.73, \"Exc.1\": 0, \"Exc.2\": 0, \"Collection\": 1, \"score_diff\": -0.32999999999999996}, {\"ID\": \"KB20\", \"Age\": 17, \"Gender\": \"Male\", \"Date.P1\": \"11/29/16\", \"Date.P2\": \"12/6/16\", \"Condition\": \"Retrieval\", \"IC.1\": 1, \"IC.2\": 1, \"Comp.1\": 1, \"Comp.2\": 1, \"PR.1\": null, \"PR.2\": 0.6, \"MCS.1\": null, \"Scorer.1\": null, \"MCS.2\": null, \"Scorer.2\": null, \"MCS.avg\": null, \"R1CS.1\": 0.583, \"Scorer.1.1\": \"LH\", \"R1CS.2\": 0.633, \"Scorer.2.1\": \"TT\", \"R1CS.avg\": 0.61, \"R2CS.1\": 0.733, \"Scorer.1.2\": \"LH\", \"R2CS.2\": 0.767, \"Scorer.2.2\": \"TT\", \"R2CS.avg\": 0.75, \"TS.1\": 0.62, \"Scorer.1.3\": \"NK\", \"TS.2\": 0.62, \"Scorer.2.3\": \"CB\", \"TS.avg\": 0.62, \"Exc.1\": 0, \"Exc.2\": 0, \"Collection\": 1, \"score_diff\": -0.020000000000000018}, {\"ID\": \"KB21\", \"Age\": 20, \"Gender\": \"Male\", \"Date.P1\": \"11/29/16\", \"Date.P2\": \"12/6/16\", \"Condition\": \"Concept\", \"IC.1\": 1, \"IC.2\": 1, \"Comp.1\": 1, \"Comp.2\": 1, \"PR.1\": 0.0, \"PR.2\": 0.8, \"MCS.1\": 0.55, \"Scorer.1\": \"NK\", \"MCS.2\": 0.583, \"Scorer.2\": \"CB\", \"MCS.avg\": 0.5670000000000001, \"R1CS.1\": null, \"Scorer.1.1\": null, \"R1CS.2\": null, \"Scorer.2.1\": null, \"R1CS.avg\": null, \"R2CS.1\": null, \"Scorer.1.2\": null, \"R2CS.2\": null, \"Scorer.2.2\": null, \"R2CS.avg\": null, \"TS.1\": 0.56, \"Scorer.1.3\": \"MS\", \"TS.2\": 0.6, \"Scorer.2.3\": \"CB\", \"TS.avg\": 0.58, \"Exc.1\": 0, \"Exc.2\": 0, \"Collection\": 1, \"score_diff\": 0.22000000000000008}, {\"ID\": \"KB22\", \"Age\": 18, \"Gender\": \"Male\", \"Date.P1\": \"11/29/16\", \"Date.P2\": \"12/6/16\", \"Condition\": \"Concept\", \"IC.1\": 1, \"IC.2\": 1, \"Comp.1\": 1, \"Comp.2\": 1, \"PR.1\": 0.0, \"PR.2\": 0.6, \"MCS.1\": 0.41700000000000004, \"Scorer.1\": \"NK\", \"MCS.2\": 0.433, \"Scorer.2\": \"CB\", \"MCS.avg\": 0.425, \"R1CS.1\": null, \"Scorer.1.1\": null, \"R1CS.2\": null, \"Scorer.2.1\": null, \"R1CS.avg\": null, \"R2CS.1\": null, \"Scorer.1.2\": null, \"R2CS.2\": null, \"Scorer.2.2\": null, \"R2CS.avg\": null, \"TS.1\": 0.18, \"Scorer.1.3\": \"NK\", \"TS.2\": 0.2, \"Scorer.2.3\": \"MS\", \"TS.avg\": 0.19, \"Exc.1\": 0, \"Exc.2\": 0, \"Collection\": 1, \"score_diff\": 0.41}, {\"ID\": \"KB23\", \"Age\": 21, \"Gender\": \"Male\", \"Date.P1\": \"11/29/16\", \"Date.P2\": \"12/6/16\", \"Condition\": \"Concept\", \"IC.1\": 1, \"IC.2\": 1, \"Comp.1\": 1, \"Comp.2\": 1, \"PR.1\": 0.0, \"PR.2\": 0.9, \"MCS.1\": 0.56, \"Scorer.1\": \"MS\", \"MCS.2\": 0.45, \"Scorer.2\": \"CB\", \"MCS.avg\": 0.505, \"R1CS.1\": null, \"Scorer.1.1\": null, \"R1CS.2\": null, \"Scorer.2.1\": null, \"R1CS.avg\": null, \"R2CS.1\": null, \"Scorer.1.2\": null, \"R2CS.2\": null, \"Scorer.2.2\": null, \"R2CS.avg\": null, \"TS.1\": 0.68, \"Scorer.1.3\": \"MS\", \"TS.2\": 0.68, \"Scorer.2.3\": \"CB\", \"TS.avg\": 0.68, \"Exc.1\": 0, \"Exc.2\": 0, \"Collection\": 1, \"score_diff\": 0.21999999999999997}, {\"ID\": \"KB24\", \"Age\": 18, \"Gender\": \"Male\", \"Date.P1\": \"11/29/16\", \"Date.P2\": \"12/6/16\", \"Condition\": \"Concept\", \"IC.1\": 1, \"IC.2\": 1, \"Comp.1\": 1, \"Comp.2\": 1, \"PR.1\": 1.0, \"PR.2\": 0.9, \"MCS.1\": 0.917, \"Scorer.1\": \"MS\", \"MCS.2\": 0.8, \"Scorer.2\": \"NK\", \"MCS.avg\": 0.8590000000000001, \"R1CS.1\": null, \"Scorer.1.1\": null, \"R1CS.2\": null, \"Scorer.2.1\": null, \"R1CS.avg\": null, \"R2CS.1\": null, \"Scorer.1.2\": null, \"R2CS.2\": null, \"Scorer.2.2\": null, \"R2CS.avg\": null, \"TS.1\": 0.54, \"Scorer.1.3\": \"NK\", \"TS.2\": 0.52, \"Scorer.2.3\": \"MS\", \"TS.avg\": 0.53, \"Exc.1\": 0, \"Exc.2\": 0, \"Collection\": 1, \"score_diff\": 0.37}, {\"ID\": \"KB25\", \"Age\": 19, \"Gender\": \"Male\", \"Date.P1\": \"11/29/16\", \"Date.P2\": \"12/6/16\", \"Condition\": \"Concept\", \"IC.1\": 1, \"IC.2\": 1, \"Comp.1\": 1, \"Comp.2\": 1, \"PR.1\": 1.0, \"PR.2\": 0.6, \"MCS.1\": 0.6829999999999999, \"Scorer.1\": \"MS\", \"MCS.2\": 0.667, \"Scorer.2\": \"NK\", \"MCS.avg\": 0.675, \"R1CS.1\": null, \"Scorer.1.1\": null, \"R1CS.2\": null, \"Scorer.2.1\": null, \"R1CS.avg\": null, \"R2CS.1\": null, \"Scorer.1.2\": null, \"R2CS.2\": null, \"Scorer.2.2\": null, \"R2CS.avg\": null, \"TS.1\": 0.56, \"Scorer.1.3\": \"NK\", \"TS.2\": 0.62, \"Scorer.2.3\": \"MS\", \"TS.avg\": 0.59, \"Exc.1\": 0, \"Exc.2\": 0, \"Collection\": 1, \"score_diff\": 0.010000000000000009}, {\"ID\": \"KB26\", \"Age\": 18, \"Gender\": \"Female\", \"Date.P1\": \"11/29/16\", \"Date.P2\": \"12/6/16\", \"Condition\": \"Concept\", \"IC.1\": 1, \"IC.2\": 1, \"Comp.1\": 1, \"Comp.2\": 1, \"PR.1\": 1.0, \"PR.2\": 0.7, \"MCS.1\": 0.667, \"Scorer.1\": \"TT\", \"MCS.2\": 0.65, \"Scorer.2\": \"NK\", \"MCS.avg\": 0.659, \"R1CS.1\": null, \"Scorer.1.1\": null, \"R1CS.2\": null, \"Scorer.2.1\": null, \"R1CS.avg\": null, \"R2CS.1\": null, \"Scorer.1.2\": null, \"R2CS.2\": null, \"Scorer.2.2\": null, \"R2CS.avg\": null, \"TS.1\": 0.3, \"Scorer.1.3\": \"MS\", \"TS.2\": 0.3, \"Scorer.2.3\": \"CB\", \"TS.avg\": 0.3, \"Exc.1\": 0, \"Exc.2\": 0, \"Collection\": 1, \"score_diff\": 0.39999999999999997}, {\"ID\": \"KB27\", \"Age\": 18, \"Gender\": \"Male\", \"Date.P1\": \"11/29/16\", \"Date.P2\": \"12/6/16\", \"Condition\": \"Concept\", \"IC.1\": 1, \"IC.2\": 1, \"Comp.1\": 1, \"Comp.2\": 1, \"PR.1\": 1.0, \"PR.2\": 0.7, \"MCS.1\": 0.5, \"Scorer.1\": \"NK\", \"MCS.2\": 0.5, \"Scorer.2\": \"MS\", \"MCS.avg\": 0.5, \"R1CS.1\": null, \"Scorer.1.1\": null, \"R1CS.2\": null, \"Scorer.2.1\": null, \"R1CS.avg\": null, \"R2CS.1\": null, \"Scorer.1.2\": null, \"R2CS.2\": null, \"Scorer.2.2\": null, \"R2CS.avg\": null, \"TS.1\": 0.52, \"Scorer.1.3\": \"MS\", \"TS.2\": 0.52, \"Scorer.2.3\": \"CB\", \"TS.avg\": 0.52, \"Exc.1\": 0, \"Exc.2\": 0, \"Collection\": 1, \"score_diff\": 0.17999999999999994}, {\"ID\": \"KB28\", \"Age\": 18, \"Gender\": \"Male\", \"Date.P1\": \"11/29/16\", \"Date.P2\": \"12/2/16\", \"Condition\": \"Concept\", \"IC.1\": 1, \"IC.2\": 1, \"Comp.1\": 1, \"Comp.2\": 1, \"PR.1\": 1.0, \"PR.2\": 0.5, \"MCS.1\": 0.55, \"Scorer.1\": \"NK\", \"MCS.2\": 0.617, \"Scorer.2\": \"MS\", \"MCS.avg\": 0.583, \"R1CS.1\": null, \"Scorer.1.1\": null, \"R1CS.2\": null, \"Scorer.2.1\": null, \"R1CS.avg\": null, \"R2CS.1\": null, \"Scorer.1.2\": null, \"R2CS.2\": null, \"Scorer.2.2\": null, \"R2CS.avg\": null, \"TS.1\": 0.42, \"Scorer.1.3\": \"NK\", \"TS.2\": 0.44, \"Scorer.2.3\": \"MS\", \"TS.avg\": 0.43, \"Exc.1\": 0, \"Exc.2\": 0, \"Collection\": 1, \"score_diff\": 0.07}, {\"ID\": \"KB29\", \"Age\": 19, \"Gender\": \"Male\", \"Date.P1\": \"1/23/17\", \"Date.P2\": \"1/31/17\", \"Condition\": \"Concept\", \"IC.1\": 1, \"IC.2\": 1, \"Comp.1\": 1, \"Comp.2\": 1, \"PR.1\": 1.0, \"PR.2\": 0.9, \"MCS.1\": 0.867, \"Scorer.1\": \"TT\", \"MCS.2\": 0.85, \"Scorer.2\": \"NK\", \"MCS.avg\": 0.8585, \"R1CS.1\": null, \"Scorer.1.1\": null, \"R1CS.2\": null, \"Scorer.2.1\": null, \"R1CS.avg\": null, \"R2CS.1\": null, \"Scorer.1.2\": null, \"R2CS.2\": null, \"Scorer.2.2\": null, \"R2CS.avg\": null, \"TS.1\": 0.6, \"Scorer.1.3\": \"LH\", \"TS.2\": 0.6, \"Scorer.2.3\": \"TT\", \"TS.avg\": 0.6, \"Exc.1\": 0, \"Exc.2\": 0, \"Collection\": 1, \"score_diff\": 0.30000000000000004}, {\"ID\": \"KB30\", \"Age\": 18, \"Gender\": \"Female\", \"Date.P1\": \"1/23/17\", \"Date.P2\": \"1/31/17\", \"Condition\": \"Concept\", \"IC.1\": 1, \"IC.2\": 1, \"Comp.1\": 1, \"Comp.2\": 1, \"PR.1\": 1.0, \"PR.2\": 0.4, \"MCS.1\": 0.76, \"Scorer.1\": \"NK\", \"MCS.2\": 0.7829999999999999, \"Scorer.2\": \"TT\", \"MCS.avg\": 0.767, \"R1CS.1\": null, \"Scorer.1.1\": null, \"R1CS.2\": null, \"Scorer.2.1\": null, \"R1CS.avg\": null, \"R2CS.1\": null, \"Scorer.1.2\": null, \"R2CS.2\": null, \"Scorer.2.2\": null, \"R2CS.avg\": null, \"TS.1\": 0.8, \"Scorer.1.3\": \"LH\", \"TS.2\": 0.8, \"Scorer.2.3\": \"NK\", \"TS.avg\": 0.8, \"Exc.1\": 0, \"Exc.2\": 0, \"Collection\": 1, \"score_diff\": -0.4}, {\"ID\": \"KB31\", \"Age\": 19, \"Gender\": \"Female\", \"Date.P1\": \"1/23/17\", \"Date.P2\": \"2/1/17\", \"Condition\": \"Concept\", \"IC.1\": 1, \"IC.2\": 1, \"Comp.1\": 1, \"Comp.2\": 1, \"PR.1\": 1.0, \"PR.2\": 0.6, \"MCS.1\": 0.733, \"Scorer.1\": \"TT\", \"MCS.2\": 0.75, \"Scorer.2\": \"NK\", \"MCS.avg\": 0.74, \"R1CS.1\": null, \"Scorer.1.1\": null, \"R1CS.2\": null, \"Scorer.2.1\": null, \"R1CS.avg\": null, \"R2CS.1\": null, \"Scorer.1.2\": null, \"R2CS.2\": null, \"Scorer.2.2\": null, \"R2CS.avg\": null, \"TS.1\": 0.22, \"Scorer.1.3\": \"LH\", \"TS.2\": 0.22, \"Scorer.2.3\": \"NK\", \"TS.avg\": 0.22, \"Exc.1\": 0, \"Exc.2\": 0, \"Collection\": 1, \"score_diff\": 0.38}, {\"ID\": \"KB32\", \"Age\": 18, \"Gender\": \"Male\", \"Date.P1\": \"1/23/17\", \"Date.P2\": \"1/31/17\", \"Condition\": \"Concept\", \"IC.1\": 1, \"IC.2\": 1, \"Comp.1\": 1, \"Comp.2\": 1, \"PR.1\": 0.0, \"PR.2\": 0.7, \"MCS.1\": 0.62, \"Scorer.1\": \"NK\", \"MCS.2\": 0.633, \"Scorer.2\": \"TT\", \"MCS.avg\": 0.623, \"R1CS.1\": null, \"Scorer.1.1\": null, \"R1CS.2\": null, \"Scorer.2.1\": null, \"R1CS.avg\": null, \"R2CS.1\": null, \"Scorer.1.2\": null, \"R2CS.2\": null, \"Scorer.2.2\": null, \"R2CS.avg\": null, \"TS.1\": 0.54, \"Scorer.1.3\": \"LH\", \"TS.2\": 0.46, \"Scorer.2.3\": \"NK\", \"TS.avg\": 0.5, \"Exc.1\": 0, \"Exc.2\": 0, \"Collection\": 1, \"score_diff\": 0.19999999999999996}, {\"ID\": \"KB33\", \"Age\": 21, \"Gender\": \"Male\", \"Date.P1\": \"1/24/17\", \"Date.P2\": \"1/31/17\", \"Condition\": \"Concept\", \"IC.1\": 1, \"IC.2\": 1, \"Comp.1\": 1, \"Comp.2\": 1, \"PR.1\": 1.0, \"PR.2\": 0.7, \"MCS.1\": 0.767, \"Scorer.1\": \"TT\", \"MCS.2\": 0.8, \"Scorer.2\": \"NK\", \"MCS.avg\": 0.785, \"R1CS.1\": null, \"Scorer.1.1\": null, \"R1CS.2\": null, \"Scorer.2.1\": null, \"R1CS.avg\": null, \"R2CS.1\": null, \"Scorer.1.2\": null, \"R2CS.2\": null, \"Scorer.2.2\": null, \"R2CS.avg\": null, \"TS.1\": 0.64, \"Scorer.1.3\": \"LH\", \"TS.2\": 0.64, \"Scorer.2.3\": \"TT\", \"TS.avg\": 0.64, \"Exc.1\": 0, \"Exc.2\": 0, \"Collection\": 1, \"score_diff\": 0.05999999999999994}, {\"ID\": \"KB34\", \"Age\": 22, \"Gender\": \"Female\", \"Date.P1\": \"1/24/17\", \"Date.P2\": \"1/31/17\", \"Condition\": \"Retrieval\", \"IC.1\": 1, \"IC.2\": 1, \"Comp.1\": 1, \"Comp.2\": 1, \"PR.1\": null, \"PR.2\": 0.8, \"MCS.1\": null, \"Scorer.1\": null, \"MCS.2\": null, \"Scorer.2\": null, \"MCS.avg\": null, \"R1CS.1\": 0.36700000000000005, \"Scorer.1.1\": \"TT\", \"R1CS.2\": 0.38299999999999995, \"Scorer.2.1\": \"LH\", \"R1CS.avg\": 0.375, \"R2CS.1\": 0.5670000000000001, \"Scorer.1.2\": \"TT\", \"R2CS.2\": 0.6, \"Scorer.2.2\": \"LH\", \"R2CS.avg\": 0.584, \"TS.1\": 0.42, \"Scorer.1.3\": \"LH\", \"TS.2\": 0.32, \"Scorer.2.3\": \"TT\", \"TS.avg\": 0.37, \"Exc.1\": 0, \"Exc.2\": 0, \"Collection\": 1, \"score_diff\": 0.43000000000000005}, {\"ID\": \"KB35\", \"Age\": 19, \"Gender\": \"Male\", \"Date.P1\": \"1/24/17\", \"Date.P2\": \"2/2/17\", \"Condition\": \"Retrieval\", \"IC.1\": 1, \"IC.2\": 1, \"Comp.1\": 1, \"Comp.2\": 1, \"PR.1\": null, \"PR.2\": 0.9, \"MCS.1\": null, \"Scorer.1\": null, \"MCS.2\": null, \"Scorer.2\": null, \"MCS.avg\": null, \"R1CS.1\": 0.767, \"Scorer.1.1\": \"TT\", \"R1CS.2\": 0.8, \"Scorer.2.1\": \"LH\", \"R1CS.avg\": 0.784, \"R2CS.1\": 0.867, \"Scorer.1.2\": \"TT\", \"R2CS.2\": 0.9, \"Scorer.2.2\": \"LH\", \"R2CS.avg\": 0.884, \"TS.1\": 1.0, \"Scorer.1.3\": \"LH\", \"TS.2\": 1.0, \"Scorer.2.3\": \"NK\", \"TS.avg\": 1.0, \"Exc.1\": 0, \"Exc.2\": 0, \"Collection\": 1, \"score_diff\": -0.09999999999999998}, {\"ID\": \"KB37\", \"Age\": 20, \"Gender\": \"Male\", \"Date.P1\": \"1/24/17\", \"Date.P2\": \"1/31/17\", \"Condition\": \"Retrieval\", \"IC.1\": 1, \"IC.2\": 1, \"Comp.1\": 1, \"Comp.2\": 1, \"PR.1\": null, \"PR.2\": 0.8, \"MCS.1\": null, \"Scorer.1\": null, \"MCS.2\": null, \"Scorer.2\": null, \"MCS.avg\": null, \"R1CS.1\": 0.4, \"Scorer.1.1\": \"TT\", \"R1CS.2\": 0.5, \"Scorer.2.1\": \"LH\", \"R1CS.avg\": 0.45, \"R2CS.1\": 0.75, \"Scorer.1.2\": \"TT\", \"R2CS.2\": 0.8, \"Scorer.2.2\": \"LH\", \"R2CS.avg\": 0.775, \"TS.1\": 0.44, \"Scorer.1.3\": \"LH\", \"TS.2\": 0.44, \"Scorer.2.3\": \"TT\", \"TS.avg\": 0.44, \"Exc.1\": 0, \"Exc.2\": 0, \"Collection\": 1, \"score_diff\": 0.36000000000000004}, {\"ID\": \"KB38\", \"Age\": 19, \"Gender\": \"Female\", \"Date.P1\": \"1/24/17\", \"Date.P2\": \"1/31/17\", \"Condition\": \"Concept\", \"IC.1\": 1, \"IC.2\": 1, \"Comp.1\": 1, \"Comp.2\": 1, \"PR.1\": 1.0, \"PR.2\": 0.7, \"MCS.1\": 0.7170000000000001, \"Scorer.1\": \"NK\", \"MCS.2\": 0.733, \"Scorer.2\": \"TT\", \"MCS.avg\": 0.725, \"R1CS.1\": null, \"Scorer.1.1\": null, \"R1CS.2\": null, \"Scorer.2.1\": null, \"R1CS.avg\": null, \"R2CS.1\": null, \"Scorer.1.2\": null, \"R2CS.2\": null, \"Scorer.2.2\": null, \"R2CS.avg\": null, \"TS.1\": 0.22, \"Scorer.1.3\": \"LH\", \"TS.2\": 0.18, \"Scorer.2.3\": \"TT\", \"TS.avg\": 0.2, \"Exc.1\": 0, \"Exc.2\": 0, \"Collection\": 1, \"score_diff\": 0.49999999999999994}, {\"ID\": \"KB39\", \"Age\": 19, \"Gender\": \"Female\", \"Date.P1\": \"1/25/17\", \"Date.P2\": \"2/1/17\", \"Condition\": \"Concept\", \"IC.1\": 1, \"IC.2\": 1, \"Comp.1\": 1, \"Comp.2\": 1, \"PR.1\": 0.0, \"PR.2\": 0.7, \"MCS.1\": 0.41700000000000004, \"Scorer.1\": \"NK\", \"MCS.2\": 0.41700000000000004, \"Scorer.2\": \"TT\", \"MCS.avg\": 0.41700000000000004, \"R1CS.1\": null, \"Scorer.1.1\": null, \"R1CS.2\": null, \"Scorer.2.1\": null, \"R1CS.avg\": null, \"R2CS.1\": null, \"Scorer.1.2\": null, \"R2CS.2\": null, \"Scorer.2.2\": null, \"R2CS.avg\": null, \"TS.1\": 0.48, \"Scorer.1.3\": \"LH\", \"TS.2\": 0.5, \"Scorer.2.3\": \"NK\", \"TS.avg\": 0.49, \"Exc.1\": 0, \"Exc.2\": 0, \"Collection\": 1, \"score_diff\": 0.20999999999999996}, {\"ID\": \"KB40\", \"Age\": 20, \"Gender\": \"Female\", \"Date.P1\": \"1/25/17\", \"Date.P2\": \"2/2/17\", \"Condition\": \"Retrieval\", \"IC.1\": 1, \"IC.2\": 1, \"Comp.1\": 1, \"Comp.2\": 1, \"PR.1\": null, \"PR.2\": 0.4, \"MCS.1\": null, \"Scorer.1\": null, \"MCS.2\": null, \"Scorer.2\": null, \"MCS.avg\": null, \"R1CS.1\": 0.36700000000000005, \"Scorer.1.1\": \"TT\", \"R1CS.2\": 0.4, \"Scorer.2.1\": \"LH\", \"R1CS.avg\": 0.384, \"R2CS.1\": 0.65, \"Scorer.1.2\": \"TT\", \"R2CS.2\": 0.7170000000000001, \"Scorer.2.2\": \"LH\", \"R2CS.avg\": 0.6829999999999999, \"TS.1\": 0.66, \"Scorer.1.3\": \"LH\", \"TS.2\": 0.6, \"Scorer.2.3\": \"NK\", \"TS.avg\": 0.63, \"Exc.1\": 0, \"Exc.2\": 0, \"Collection\": 1, \"score_diff\": -0.22999999999999998}, {\"ID\": \"KB41\", \"Age\": 19, \"Gender\": \"Female\", \"Date.P1\": \"1/25/17\", \"Date.P2\": \"2/1/17\", \"Condition\": \"Retrieval\", \"IC.1\": 1, \"IC.2\": 1, \"Comp.1\": 1, \"Comp.2\": 1, \"PR.1\": null, \"PR.2\": 0.6, \"MCS.1\": null, \"Scorer.1\": null, \"MCS.2\": null, \"Scorer.2\": null, \"MCS.avg\": null, \"R1CS.1\": 0.633, \"Scorer.1.1\": \"TT\", \"R1CS.2\": 0.733, \"Scorer.2.1\": \"LH\", \"R1CS.avg\": 0.6829999999999999, \"R2CS.1\": 0.767, \"Scorer.1.2\": \"TT\", \"R2CS.2\": 0.833, \"Scorer.2.2\": \"LH\", \"R2CS.avg\": 0.8, \"TS.1\": 0.66, \"Scorer.1.3\": \"LH\", \"TS.2\": 0.7, \"Scorer.2.3\": \"NK\", \"TS.avg\": 0.68, \"Exc.1\": 0, \"Exc.2\": 0, \"Collection\": 1, \"score_diff\": -0.08000000000000007}, {\"ID\": \"KB42\", \"Age\": 19, \"Gender\": \"Female\", \"Date.P1\": \"1/25/17\", \"Date.P2\": \"2/1/17\", \"Condition\": \"Retrieval\", \"IC.1\": 1, \"IC.2\": 1, \"Comp.1\": 1, \"Comp.2\": 1, \"PR.1\": null, \"PR.2\": 0.4, \"MCS.1\": null, \"Scorer.1\": null, \"MCS.2\": null, \"Scorer.2\": null, \"MCS.avg\": null, \"R1CS.1\": 0.7170000000000001, \"Scorer.1.1\": \"TT\", \"R1CS.2\": 0.6829999999999999, \"Scorer.2.1\": \"LH\", \"R1CS.avg\": 0.7, \"R2CS.1\": 0.7, \"Scorer.1.2\": \"TT\", \"R2CS.2\": 0.7, \"Scorer.2.2\": \"LH\", \"R2CS.avg\": 0.7, \"TS.1\": 0.88, \"Scorer.1.3\": \"LH\", \"TS.2\": 0.8, \"Scorer.2.3\": \"NK\", \"TS.avg\": 0.84, \"Exc.1\": 0, \"Exc.2\": 0, \"Collection\": 1, \"score_diff\": -0.43999999999999995}, {\"ID\": \"KB43\", \"Age\": 18, \"Gender\": \"Female\", \"Date.P1\": \"1/25/17\", \"Date.P2\": \"2/1/17\", \"Condition\": \"Retrieval\", \"IC.1\": 1, \"IC.2\": 1, \"Comp.1\": 1, \"Comp.2\": 1, \"PR.1\": null, \"PR.2\": 0.4, \"MCS.1\": null, \"Scorer.1\": null, \"MCS.2\": null, \"Scorer.2\": null, \"MCS.avg\": null, \"R1CS.1\": 0.45, \"Scorer.1.1\": \"TT\", \"R1CS.2\": 0.467, \"Scorer.2.1\": \"LH\", \"R1CS.avg\": 0.45799999999999996, \"R2CS.1\": 0.7170000000000001, \"Scorer.1.2\": \"TT\", \"R2CS.2\": 0.7170000000000001, \"Scorer.2.2\": \"LH\", \"R2CS.avg\": 0.7170000000000001, \"TS.1\": 0.58, \"Scorer.1.3\": \"LH\", \"TS.2\": 0.54, \"Scorer.2.3\": \"NK\", \"TS.avg\": 0.56, \"Exc.1\": 0, \"Exc.2\": 0, \"Collection\": 1, \"score_diff\": -0.16000000000000003}, {\"ID\": \"KB44\", \"Age\": 20, \"Gender\": \"Male\", \"Date.P1\": \"1/25/17\", \"Date.P2\": \"2/1/17\", \"Condition\": \"Concept\", \"IC.1\": 1, \"IC.2\": 1, \"Comp.1\": 1, \"Comp.2\": 1, \"PR.1\": 0.0, \"PR.2\": 0.5, \"MCS.1\": 0.75, \"Scorer.1\": \"TT\", \"MCS.2\": 0.85, \"Scorer.2\": \"NK\", \"MCS.avg\": 0.8, \"R1CS.1\": null, \"Scorer.1.1\": null, \"R1CS.2\": null, \"Scorer.2.1\": null, \"R1CS.avg\": null, \"R2CS.1\": null, \"Scorer.1.2\": null, \"R2CS.2\": null, \"Scorer.2.2\": null, \"R2CS.avg\": null, \"TS.1\": 0.82, \"Scorer.1.3\": \"LH\", \"TS.2\": 0.76, \"Scorer.2.3\": \"NK\", \"TS.avg\": 0.79, \"Exc.1\": 0, \"Exc.2\": 0, \"Collection\": 1, \"score_diff\": -0.29000000000000004}, {\"ID\": \"KB45\", \"Age\": 19, \"Gender\": \"Female\", \"Date.P1\": \"1/26/17\", \"Date.P2\": \"2/2/17\", \"Condition\": \"Retrieval\", \"IC.1\": 1, \"IC.2\": 1, \"Comp.1\": 1, \"Comp.2\": 1, \"PR.1\": null, \"PR.2\": 0.5, \"MCS.1\": null, \"Scorer.1\": null, \"MCS.2\": null, \"Scorer.2\": null, \"MCS.avg\": null, \"R1CS.1\": 0.66, \"Scorer.1.1\": \"NK\", \"R1CS.2\": 0.8170000000000001, \"Scorer.2.1\": \"LH\", \"R1CS.avg\": 0.738, \"R2CS.1\": 0.8, \"Scorer.1.2\": \"NK\", \"R2CS.2\": 0.85, \"Scorer.2.2\": \"LH\", \"R2CS.avg\": 0.825, \"TS.1\": 0.68, \"Scorer.1.3\": \"LH\", \"TS.2\": 0.68, \"Scorer.2.3\": \"TT\", \"TS.avg\": 0.68, \"Exc.1\": 0, \"Exc.2\": 0, \"Collection\": 1, \"score_diff\": -0.18000000000000005}]}}, {\"mode\": \"vega-lite\"});\n",
              "</script>"
            ]
          },
          "metadata": {},
          "execution_count": 94
        }
      ]
    },
    {
      "cell_type": "code",
      "source": [
        "df_learning.groupby(\"Condition\")[\"score_diff\"].mean()"
      ],
      "metadata": {
        "colab": {
          "base_uri": "https://localhost:8080/"
        },
        "id": "eMs20Ynah0zE",
        "outputId": "2574ece7-e3ac-47fe-c220-4e272fb5f11a"
      },
      "execution_count": null,
      "outputs": [
        {
          "output_type": "execute_result",
          "data": {
            "text/plain": [
              "Condition\n",
              "Concept      0.221538\n",
              "Retrieval   -0.040000\n",
              "Name: score_diff, dtype: float64"
            ]
          },
          "metadata": {},
          "execution_count": 95
        }
      ]
    },
    {
      "cell_type": "code",
      "source": [
        "df_learning[\"score_diff\"].mean()"
      ],
      "metadata": {
        "colab": {
          "base_uri": "https://localhost:8080/"
        },
        "id": "yw1sNgWTiMPT",
        "outputId": "4ec2263f-c5d4-411b-d4cd-62fbd2548b41"
      },
      "execution_count": null,
      "outputs": [
        {
          "output_type": "execute_result",
          "data": {
            "text/plain": [
              "0.1181395348837209"
            ]
          },
          "metadata": {},
          "execution_count": 96
        }
      ]
    },
    {
      "cell_type": "markdown",
      "metadata": {
        "id": "rfa6vegKOIcv"
      },
      "source": [
        "On average, subjects in the Concept group overestimated how well they would score by 0.22 points. Meanwhile, those in the Retrieval group underestimated how well they would do by 0.04 points on average.\n",
        "\n",
        "Together, all the subjects overestimated how well they would score on the test by 0.1181 points on average."
      ]
    },
    {
      "cell_type": "markdown",
      "metadata": {
        "id": "SypkJtWNOIc4"
      },
      "source": [
        "## Submission Instructions\n",
        "\n",
        "- Copy this notebook to your own Drive, if you have not already.\n",
        "- Restart this notebook and run the cells from beginning to end. \n",
        "  - Go to Runtime > Restart and Run All.\n",
        "- Rename this notebook by clicking on \"DATA 301 Lab 3 - YOUR NAMES HERE\" at the very top of this page. Replace \"YOUR NAMES HERE\" with the first and last names of you (and your partner for Phase 2).\n",
        "- Get the link to your notebook:\n",
        "  - Click on \"Share\" at the top-right. \n",
        "  - Change the settings to \"Anyone with the link can view\". \n",
        "  - Copy the sharing link into Canvas."
      ]
    }
  ]
}